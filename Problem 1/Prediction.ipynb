{
 "cells": [
  {
   "cell_type": "code",
   "id": "initial_id",
   "metadata": {
    "collapsed": true,
    "ExecuteTime": {
     "end_time": "2024-04-07T19:41:03.214047Z",
     "start_time": "2024-04-07T19:40:59.871179Z"
    }
   },
   "source": [
    "import pandas as pd\n",
    "import numpy as np"
   ],
   "outputs": [],
   "execution_count": 1
  },
  {
   "metadata": {
    "ExecuteTime": {
     "end_time": "2024-04-07T19:41:05.394443Z",
     "start_time": "2024-04-07T19:41:03.221936Z"
    }
   },
   "cell_type": "code",
   "source": "df = pd.read_csv(\"data/Preprocessed_Data.csv\")",
   "id": "81cd53729db2211",
   "outputs": [
    {
     "name": "stderr",
     "output_type": "stream",
     "text": [
      "/tmp/ipykernel_11745/1958202050.py:1: DtypeWarning: Columns (9) have mixed types. Specify dtype option on import or set low_memory=False.\n",
      "  df = pd.read_csv(\"data/Preprocessed_Data.csv\")\n"
     ]
    }
   ],
   "execution_count": 2
  },
  {
   "metadata": {
    "ExecuteTime": {
     "end_time": "2024-04-07T19:41:05.422249Z",
     "start_time": "2024-04-07T19:41:05.396459Z"
    }
   },
   "cell_type": "code",
   "source": "df",
   "id": "f33b179fe667f876",
   "outputs": [
    {
     "data": {
      "text/plain": [
       "               order_id      R_Lat      R_Lon      C_Lat      C_Lon  \\\n",
       "0       PRD_ZMT_2960011  28.468983  77.063728  28.449929  77.071230   \n",
       "1       PRD_ZMT_2964555  28.468983  77.063728  28.454522  77.066637   \n",
       "2       PRD_ZMT_2968945  28.468983  77.063728  28.461570  77.067590   \n",
       "3       PRD_ZMT_2976663  28.468983  77.063728  28.455738  77.058401   \n",
       "4       PRD_ZMT_2985948  28.468983  77.063728  28.440068  77.083967   \n",
       "...                 ...        ...        ...        ...        ...   \n",
       "237368  PRD_ZMT_8457746  28.532886  77.207941  28.503037  77.201892   \n",
       "237369  PRD_ZMT_8458181  22.544237  88.352148  22.560074  88.369037   \n",
       "237370  PRD_ZMT_8458897  19.122455  72.916411  19.104956  72.918557   \n",
       "237371  PRD_ZMT_8458955  17.450286  78.379158  17.444102  78.391155   \n",
       "237372  PRD_ZMT_8460535  12.997905  80.267516  12.986091  80.259726   \n",
       "\n",
       "        order_pickedup_time order_delivered_time  Distance (km)  \\\n",
       "0       2016-04-23 09:30:20  2016-04-23 09:57:04       2.242045   \n",
       "1       2016-04-23 11:05:32  2016-04-23 11:27:10       1.632941   \n",
       "2       2016-04-23 14:49:07  2016-04-23 15:07:18       0.906626   \n",
       "3       2016-04-23 16:43:14  2016-04-23 17:16:12       1.562127   \n",
       "4       2016-04-24 07:54:14  2016-04-24 08:16:29       3.775236   \n",
       "...                     ...                  ...            ...   \n",
       "237368  2016-09-25 16:49:02  2016-09-25 17:18:55       3.371266   \n",
       "237369  2016-09-25 17:07:48  2016-09-25 17:22:04       2.471663   \n",
       "237370  2016-09-25 17:22:39  2016-09-25 17:43:55       1.958820   \n",
       "237371  2016-09-25 17:07:15  2016-09-25 17:26:16       1.446523   \n",
       "237372  2016-09-25 17:25:54  2016-09-25 17:49:23       1.561438   \n",
       "\n",
       "        Delivery_Hour    State  Delivery_Time (sec)  \n",
       "0                   9  Haryana               1604.0  \n",
       "1                  11  Haryana               1298.0  \n",
       "2                  14  Haryana               1091.0  \n",
       "3                  16  Haryana               1978.0  \n",
       "4                   7  Haryana               1335.0  \n",
       "...               ...      ...                  ...  \n",
       "237368             16      NaN               1793.0  \n",
       "237369             17      NaN                856.0  \n",
       "237370             17      NaN               1276.0  \n",
       "237371             17      NaN               1141.0  \n",
       "237372             17      NaN               1409.0  \n",
       "\n",
       "[237373 rows x 11 columns]"
      ],
      "text/html": [
       "<div>\n",
       "<style scoped>\n",
       "    .dataframe tbody tr th:only-of-type {\n",
       "        vertical-align: middle;\n",
       "    }\n",
       "\n",
       "    .dataframe tbody tr th {\n",
       "        vertical-align: top;\n",
       "    }\n",
       "\n",
       "    .dataframe thead th {\n",
       "        text-align: right;\n",
       "    }\n",
       "</style>\n",
       "<table border=\"1\" class=\"dataframe\">\n",
       "  <thead>\n",
       "    <tr style=\"text-align: right;\">\n",
       "      <th></th>\n",
       "      <th>order_id</th>\n",
       "      <th>R_Lat</th>\n",
       "      <th>R_Lon</th>\n",
       "      <th>C_Lat</th>\n",
       "      <th>C_Lon</th>\n",
       "      <th>order_pickedup_time</th>\n",
       "      <th>order_delivered_time</th>\n",
       "      <th>Distance (km)</th>\n",
       "      <th>Delivery_Hour</th>\n",
       "      <th>State</th>\n",
       "      <th>Delivery_Time (sec)</th>\n",
       "    </tr>\n",
       "  </thead>\n",
       "  <tbody>\n",
       "    <tr>\n",
       "      <th>0</th>\n",
       "      <td>PRD_ZMT_2960011</td>\n",
       "      <td>28.468983</td>\n",
       "      <td>77.063728</td>\n",
       "      <td>28.449929</td>\n",
       "      <td>77.071230</td>\n",
       "      <td>2016-04-23 09:30:20</td>\n",
       "      <td>2016-04-23 09:57:04</td>\n",
       "      <td>2.242045</td>\n",
       "      <td>9</td>\n",
       "      <td>Haryana</td>\n",
       "      <td>1604.0</td>\n",
       "    </tr>\n",
       "    <tr>\n",
       "      <th>1</th>\n",
       "      <td>PRD_ZMT_2964555</td>\n",
       "      <td>28.468983</td>\n",
       "      <td>77.063728</td>\n",
       "      <td>28.454522</td>\n",
       "      <td>77.066637</td>\n",
       "      <td>2016-04-23 11:05:32</td>\n",
       "      <td>2016-04-23 11:27:10</td>\n",
       "      <td>1.632941</td>\n",
       "      <td>11</td>\n",
       "      <td>Haryana</td>\n",
       "      <td>1298.0</td>\n",
       "    </tr>\n",
       "    <tr>\n",
       "      <th>2</th>\n",
       "      <td>PRD_ZMT_2968945</td>\n",
       "      <td>28.468983</td>\n",
       "      <td>77.063728</td>\n",
       "      <td>28.461570</td>\n",
       "      <td>77.067590</td>\n",
       "      <td>2016-04-23 14:49:07</td>\n",
       "      <td>2016-04-23 15:07:18</td>\n",
       "      <td>0.906626</td>\n",
       "      <td>14</td>\n",
       "      <td>Haryana</td>\n",
       "      <td>1091.0</td>\n",
       "    </tr>\n",
       "    <tr>\n",
       "      <th>3</th>\n",
       "      <td>PRD_ZMT_2976663</td>\n",
       "      <td>28.468983</td>\n",
       "      <td>77.063728</td>\n",
       "      <td>28.455738</td>\n",
       "      <td>77.058401</td>\n",
       "      <td>2016-04-23 16:43:14</td>\n",
       "      <td>2016-04-23 17:16:12</td>\n",
       "      <td>1.562127</td>\n",
       "      <td>16</td>\n",
       "      <td>Haryana</td>\n",
       "      <td>1978.0</td>\n",
       "    </tr>\n",
       "    <tr>\n",
       "      <th>4</th>\n",
       "      <td>PRD_ZMT_2985948</td>\n",
       "      <td>28.468983</td>\n",
       "      <td>77.063728</td>\n",
       "      <td>28.440068</td>\n",
       "      <td>77.083967</td>\n",
       "      <td>2016-04-24 07:54:14</td>\n",
       "      <td>2016-04-24 08:16:29</td>\n",
       "      <td>3.775236</td>\n",
       "      <td>7</td>\n",
       "      <td>Haryana</td>\n",
       "      <td>1335.0</td>\n",
       "    </tr>\n",
       "    <tr>\n",
       "      <th>...</th>\n",
       "      <td>...</td>\n",
       "      <td>...</td>\n",
       "      <td>...</td>\n",
       "      <td>...</td>\n",
       "      <td>...</td>\n",
       "      <td>...</td>\n",
       "      <td>...</td>\n",
       "      <td>...</td>\n",
       "      <td>...</td>\n",
       "      <td>...</td>\n",
       "      <td>...</td>\n",
       "    </tr>\n",
       "    <tr>\n",
       "      <th>237368</th>\n",
       "      <td>PRD_ZMT_8457746</td>\n",
       "      <td>28.532886</td>\n",
       "      <td>77.207941</td>\n",
       "      <td>28.503037</td>\n",
       "      <td>77.201892</td>\n",
       "      <td>2016-09-25 16:49:02</td>\n",
       "      <td>2016-09-25 17:18:55</td>\n",
       "      <td>3.371266</td>\n",
       "      <td>16</td>\n",
       "      <td>NaN</td>\n",
       "      <td>1793.0</td>\n",
       "    </tr>\n",
       "    <tr>\n",
       "      <th>237369</th>\n",
       "      <td>PRD_ZMT_8458181</td>\n",
       "      <td>22.544237</td>\n",
       "      <td>88.352148</td>\n",
       "      <td>22.560074</td>\n",
       "      <td>88.369037</td>\n",
       "      <td>2016-09-25 17:07:48</td>\n",
       "      <td>2016-09-25 17:22:04</td>\n",
       "      <td>2.471663</td>\n",
       "      <td>17</td>\n",
       "      <td>NaN</td>\n",
       "      <td>856.0</td>\n",
       "    </tr>\n",
       "    <tr>\n",
       "      <th>237370</th>\n",
       "      <td>PRD_ZMT_8458897</td>\n",
       "      <td>19.122455</td>\n",
       "      <td>72.916411</td>\n",
       "      <td>19.104956</td>\n",
       "      <td>72.918557</td>\n",
       "      <td>2016-09-25 17:22:39</td>\n",
       "      <td>2016-09-25 17:43:55</td>\n",
       "      <td>1.958820</td>\n",
       "      <td>17</td>\n",
       "      <td>NaN</td>\n",
       "      <td>1276.0</td>\n",
       "    </tr>\n",
       "    <tr>\n",
       "      <th>237371</th>\n",
       "      <td>PRD_ZMT_8458955</td>\n",
       "      <td>17.450286</td>\n",
       "      <td>78.379158</td>\n",
       "      <td>17.444102</td>\n",
       "      <td>78.391155</td>\n",
       "      <td>2016-09-25 17:07:15</td>\n",
       "      <td>2016-09-25 17:26:16</td>\n",
       "      <td>1.446523</td>\n",
       "      <td>17</td>\n",
       "      <td>NaN</td>\n",
       "      <td>1141.0</td>\n",
       "    </tr>\n",
       "    <tr>\n",
       "      <th>237372</th>\n",
       "      <td>PRD_ZMT_8460535</td>\n",
       "      <td>12.997905</td>\n",
       "      <td>80.267516</td>\n",
       "      <td>12.986091</td>\n",
       "      <td>80.259726</td>\n",
       "      <td>2016-09-25 17:25:54</td>\n",
       "      <td>2016-09-25 17:49:23</td>\n",
       "      <td>1.561438</td>\n",
       "      <td>17</td>\n",
       "      <td>NaN</td>\n",
       "      <td>1409.0</td>\n",
       "    </tr>\n",
       "  </tbody>\n",
       "</table>\n",
       "<p>237373 rows × 11 columns</p>\n",
       "</div>"
      ]
     },
     "execution_count": 3,
     "metadata": {},
     "output_type": "execute_result"
    }
   ],
   "execution_count": 3
  },
  {
   "metadata": {
    "ExecuteTime": {
     "end_time": "2024-04-07T19:41:08.709394Z",
     "start_time": "2024-04-07T19:41:05.423767Z"
    }
   },
   "cell_type": "code",
   "source": "df.info()",
   "id": "1fc976127e8a9499",
   "outputs": [
    {
     "name": "stdout",
     "output_type": "stream",
     "text": [
      "<class 'pandas.core.frame.DataFrame'>\n",
      "RangeIndex: 237373 entries, 0 to 237372\n",
      "Data columns (total 11 columns):\n",
      " #   Column                Non-Null Count   Dtype  \n",
      "---  ------                --------------   -----  \n",
      " 0   order_id              237373 non-null  object \n",
      " 1   R_Lat                 237373 non-null  float64\n",
      " 2   R_Lon                 237373 non-null  float64\n",
      " 3   C_Lat                 237373 non-null  float64\n",
      " 4   C_Lon                 237373 non-null  float64\n",
      " 5   order_pickedup_time   237373 non-null  object \n",
      " 6   order_delivered_time  237373 non-null  object \n",
      " 7   Distance (km)         237373 non-null  float64\n",
      " 8   Delivery_Hour         237373 non-null  int64  \n",
      " 9   State                 50101 non-null   object \n",
      " 10  Delivery_Time (sec)   237373 non-null  float64\n",
      "dtypes: float64(6), int64(1), object(4)\n",
      "memory usage: 19.9+ MB\n"
     ]
    }
   ],
   "execution_count": 4
  },
  {
   "metadata": {
    "ExecuteTime": {
     "end_time": "2024-04-07T19:41:10.510567Z",
     "start_time": "2024-04-07T19:41:08.711807Z"
    }
   },
   "cell_type": "code",
   "source": [
    "# For incomplete data\n",
    "df = df[:50000]\n",
    "df"
   ],
   "id": "f77af53316d325ef",
   "outputs": [
    {
     "data": {
      "text/plain": [
       "                 order_id      R_Lat      R_Lon      C_Lat      C_Lon  \\\n",
       "0         PRD_ZMT_2960011  28.468983  77.063728  28.449929  77.071230   \n",
       "1         PRD_ZMT_2964555  28.468983  77.063728  28.454522  77.066637   \n",
       "2         PRD_ZMT_2968945  28.468983  77.063728  28.461570  77.067590   \n",
       "3         PRD_ZMT_2976663  28.468983  77.063728  28.455738  77.058401   \n",
       "4         PRD_ZMT_2985948  28.468983  77.063728  28.440068  77.083967   \n",
       "...                   ...        ...        ...        ...        ...   \n",
       "49995     PRD_ZMT_4598381  28.541147  77.155150  28.512131  77.177924   \n",
       "49996     PRD_ZMT_4598429  28.564568  77.199208  28.558845  77.200506   \n",
       "49997     PRD_ZMT_4598618  28.468983  77.063728  28.476535  77.060448   \n",
       "49998     PRD_ZMT_4598662  17.440667  78.392478  17.447236  78.387076   \n",
       "49999  PRD_SWG_1062072645  12.953058  77.700430  12.950011  77.715073   \n",
       "\n",
       "       order_pickedup_time order_delivered_time  Distance (km)  Delivery_Hour  \\\n",
       "0      2016-04-23 09:30:20  2016-04-23 09:57:04       2.242045              9   \n",
       "1      2016-04-23 11:05:32  2016-04-23 11:27:10       1.632941             11   \n",
       "2      2016-04-23 14:49:07  2016-04-23 15:07:18       0.906626             14   \n",
       "3      2016-04-23 16:43:14  2016-04-23 17:16:12       1.562127             16   \n",
       "4      2016-04-24 07:54:14  2016-04-24 08:16:29       3.775236              7   \n",
       "...                    ...                  ...            ...            ...   \n",
       "49995  2016-06-22 12:17:58  2016-06-22 12:26:39       3.919197             12   \n",
       "49996  2016-06-22 11:57:19  2016-06-22 12:44:10       0.648872             11   \n",
       "49997  2016-06-22 12:17:56  2016-06-22 17:22:57       0.898864             12   \n",
       "49998  2016-06-22 12:03:17  2016-06-22 12:10:55       0.928401             12   \n",
       "49999  2016-06-22 12:28:46  2016-06-22 13:04:40       1.622573             12   \n",
       "\n",
       "           State  Delivery_Time (sec)  \n",
       "0        Haryana               1604.0  \n",
       "1        Haryana               1298.0  \n",
       "2        Haryana               1091.0  \n",
       "3        Haryana               1978.0  \n",
       "4        Haryana               1335.0  \n",
       "...          ...                  ...  \n",
       "49995      Delhi                521.0  \n",
       "49996      Delhi               2811.0  \n",
       "49997    Haryana              18301.0  \n",
       "49998  Telangana                458.0  \n",
       "49999  Karnataka               2154.0  \n",
       "\n",
       "[50000 rows x 11 columns]"
      ],
      "text/html": [
       "<div>\n",
       "<style scoped>\n",
       "    .dataframe tbody tr th:only-of-type {\n",
       "        vertical-align: middle;\n",
       "    }\n",
       "\n",
       "    .dataframe tbody tr th {\n",
       "        vertical-align: top;\n",
       "    }\n",
       "\n",
       "    .dataframe thead th {\n",
       "        text-align: right;\n",
       "    }\n",
       "</style>\n",
       "<table border=\"1\" class=\"dataframe\">\n",
       "  <thead>\n",
       "    <tr style=\"text-align: right;\">\n",
       "      <th></th>\n",
       "      <th>order_id</th>\n",
       "      <th>R_Lat</th>\n",
       "      <th>R_Lon</th>\n",
       "      <th>C_Lat</th>\n",
       "      <th>C_Lon</th>\n",
       "      <th>order_pickedup_time</th>\n",
       "      <th>order_delivered_time</th>\n",
       "      <th>Distance (km)</th>\n",
       "      <th>Delivery_Hour</th>\n",
       "      <th>State</th>\n",
       "      <th>Delivery_Time (sec)</th>\n",
       "    </tr>\n",
       "  </thead>\n",
       "  <tbody>\n",
       "    <tr>\n",
       "      <th>0</th>\n",
       "      <td>PRD_ZMT_2960011</td>\n",
       "      <td>28.468983</td>\n",
       "      <td>77.063728</td>\n",
       "      <td>28.449929</td>\n",
       "      <td>77.071230</td>\n",
       "      <td>2016-04-23 09:30:20</td>\n",
       "      <td>2016-04-23 09:57:04</td>\n",
       "      <td>2.242045</td>\n",
       "      <td>9</td>\n",
       "      <td>Haryana</td>\n",
       "      <td>1604.0</td>\n",
       "    </tr>\n",
       "    <tr>\n",
       "      <th>1</th>\n",
       "      <td>PRD_ZMT_2964555</td>\n",
       "      <td>28.468983</td>\n",
       "      <td>77.063728</td>\n",
       "      <td>28.454522</td>\n",
       "      <td>77.066637</td>\n",
       "      <td>2016-04-23 11:05:32</td>\n",
       "      <td>2016-04-23 11:27:10</td>\n",
       "      <td>1.632941</td>\n",
       "      <td>11</td>\n",
       "      <td>Haryana</td>\n",
       "      <td>1298.0</td>\n",
       "    </tr>\n",
       "    <tr>\n",
       "      <th>2</th>\n",
       "      <td>PRD_ZMT_2968945</td>\n",
       "      <td>28.468983</td>\n",
       "      <td>77.063728</td>\n",
       "      <td>28.461570</td>\n",
       "      <td>77.067590</td>\n",
       "      <td>2016-04-23 14:49:07</td>\n",
       "      <td>2016-04-23 15:07:18</td>\n",
       "      <td>0.906626</td>\n",
       "      <td>14</td>\n",
       "      <td>Haryana</td>\n",
       "      <td>1091.0</td>\n",
       "    </tr>\n",
       "    <tr>\n",
       "      <th>3</th>\n",
       "      <td>PRD_ZMT_2976663</td>\n",
       "      <td>28.468983</td>\n",
       "      <td>77.063728</td>\n",
       "      <td>28.455738</td>\n",
       "      <td>77.058401</td>\n",
       "      <td>2016-04-23 16:43:14</td>\n",
       "      <td>2016-04-23 17:16:12</td>\n",
       "      <td>1.562127</td>\n",
       "      <td>16</td>\n",
       "      <td>Haryana</td>\n",
       "      <td>1978.0</td>\n",
       "    </tr>\n",
       "    <tr>\n",
       "      <th>4</th>\n",
       "      <td>PRD_ZMT_2985948</td>\n",
       "      <td>28.468983</td>\n",
       "      <td>77.063728</td>\n",
       "      <td>28.440068</td>\n",
       "      <td>77.083967</td>\n",
       "      <td>2016-04-24 07:54:14</td>\n",
       "      <td>2016-04-24 08:16:29</td>\n",
       "      <td>3.775236</td>\n",
       "      <td>7</td>\n",
       "      <td>Haryana</td>\n",
       "      <td>1335.0</td>\n",
       "    </tr>\n",
       "    <tr>\n",
       "      <th>...</th>\n",
       "      <td>...</td>\n",
       "      <td>...</td>\n",
       "      <td>...</td>\n",
       "      <td>...</td>\n",
       "      <td>...</td>\n",
       "      <td>...</td>\n",
       "      <td>...</td>\n",
       "      <td>...</td>\n",
       "      <td>...</td>\n",
       "      <td>...</td>\n",
       "      <td>...</td>\n",
       "    </tr>\n",
       "    <tr>\n",
       "      <th>49995</th>\n",
       "      <td>PRD_ZMT_4598381</td>\n",
       "      <td>28.541147</td>\n",
       "      <td>77.155150</td>\n",
       "      <td>28.512131</td>\n",
       "      <td>77.177924</td>\n",
       "      <td>2016-06-22 12:17:58</td>\n",
       "      <td>2016-06-22 12:26:39</td>\n",
       "      <td>3.919197</td>\n",
       "      <td>12</td>\n",
       "      <td>Delhi</td>\n",
       "      <td>521.0</td>\n",
       "    </tr>\n",
       "    <tr>\n",
       "      <th>49996</th>\n",
       "      <td>PRD_ZMT_4598429</td>\n",
       "      <td>28.564568</td>\n",
       "      <td>77.199208</td>\n",
       "      <td>28.558845</td>\n",
       "      <td>77.200506</td>\n",
       "      <td>2016-06-22 11:57:19</td>\n",
       "      <td>2016-06-22 12:44:10</td>\n",
       "      <td>0.648872</td>\n",
       "      <td>11</td>\n",
       "      <td>Delhi</td>\n",
       "      <td>2811.0</td>\n",
       "    </tr>\n",
       "    <tr>\n",
       "      <th>49997</th>\n",
       "      <td>PRD_ZMT_4598618</td>\n",
       "      <td>28.468983</td>\n",
       "      <td>77.063728</td>\n",
       "      <td>28.476535</td>\n",
       "      <td>77.060448</td>\n",
       "      <td>2016-06-22 12:17:56</td>\n",
       "      <td>2016-06-22 17:22:57</td>\n",
       "      <td>0.898864</td>\n",
       "      <td>12</td>\n",
       "      <td>Haryana</td>\n",
       "      <td>18301.0</td>\n",
       "    </tr>\n",
       "    <tr>\n",
       "      <th>49998</th>\n",
       "      <td>PRD_ZMT_4598662</td>\n",
       "      <td>17.440667</td>\n",
       "      <td>78.392478</td>\n",
       "      <td>17.447236</td>\n",
       "      <td>78.387076</td>\n",
       "      <td>2016-06-22 12:03:17</td>\n",
       "      <td>2016-06-22 12:10:55</td>\n",
       "      <td>0.928401</td>\n",
       "      <td>12</td>\n",
       "      <td>Telangana</td>\n",
       "      <td>458.0</td>\n",
       "    </tr>\n",
       "    <tr>\n",
       "      <th>49999</th>\n",
       "      <td>PRD_SWG_1062072645</td>\n",
       "      <td>12.953058</td>\n",
       "      <td>77.700430</td>\n",
       "      <td>12.950011</td>\n",
       "      <td>77.715073</td>\n",
       "      <td>2016-06-22 12:28:46</td>\n",
       "      <td>2016-06-22 13:04:40</td>\n",
       "      <td>1.622573</td>\n",
       "      <td>12</td>\n",
       "      <td>Karnataka</td>\n",
       "      <td>2154.0</td>\n",
       "    </tr>\n",
       "  </tbody>\n",
       "</table>\n",
       "<p>50000 rows × 11 columns</p>\n",
       "</div>"
      ]
     },
     "execution_count": 5,
     "metadata": {},
     "output_type": "execute_result"
    }
   ],
   "execution_count": 5
  },
  {
   "metadata": {},
   "cell_type": "markdown",
   "source": "# Label Encoding of `State` column",
   "id": "7aea98e90933992"
  },
  {
   "metadata": {
    "ExecuteTime": {
     "end_time": "2024-04-07T19:41:11.663562Z",
     "start_time": "2024-04-07T19:41:10.512711Z"
    }
   },
   "cell_type": "code",
   "source": "df[\"State\"].unique()",
   "id": "8c0ef35283321d1e",
   "outputs": [
    {
     "data": {
      "text/plain": [
       "array(['Haryana', 'Delhi', 'Maharashtra', 'Tamil Nadu', 'Telangana',\n",
       "       'West Bengal', 'Karnataka', 'Borno'], dtype=object)"
      ]
     },
     "execution_count": 6,
     "metadata": {},
     "output_type": "execute_result"
    }
   ],
   "execution_count": 6
  },
  {
   "metadata": {
    "ExecuteTime": {
     "end_time": "2024-04-07T19:41:16.706298Z",
     "start_time": "2024-04-07T19:41:11.665202Z"
    }
   },
   "cell_type": "code",
   "source": "from sklearn import preprocessing",
   "id": "353eb55fc7ac37b9",
   "outputs": [],
   "execution_count": 7
  },
  {
   "metadata": {
    "ExecuteTime": {
     "end_time": "2024-04-07T19:41:16.722267Z",
     "start_time": "2024-04-07T19:41:16.707774Z"
    }
   },
   "cell_type": "code",
   "source": [
    "label_encoder = preprocessing.LabelEncoder()\n",
    "\n",
    "df['State']= label_encoder.fit_transform(df['State'])\n",
    "\n",
    "df['State'].unique()"
   ],
   "id": "15657a93a1777151",
   "outputs": [
    {
     "name": "stderr",
     "output_type": "stream",
     "text": [
      "/tmp/ipykernel_11745/2461553243.py:3: SettingWithCopyWarning: \n",
      "A value is trying to be set on a copy of a slice from a DataFrame.\n",
      "Try using .loc[row_indexer,col_indexer] = value instead\n",
      "\n",
      "See the caveats in the documentation: https://pandas.pydata.org/pandas-docs/stable/user_guide/indexing.html#returning-a-view-versus-a-copy\n",
      "  df['State']= label_encoder.fit_transform(df['State'])\n"
     ]
    },
    {
     "data": {
      "text/plain": [
       "array([2, 1, 4, 5, 6, 7, 3, 0])"
      ]
     },
     "execution_count": 8,
     "metadata": {},
     "output_type": "execute_result"
    }
   ],
   "execution_count": 8
  },
  {
   "metadata": {},
   "cell_type": "markdown",
   "source": "# Let's split the dataset in Train & Test dataset",
   "id": "af0aba41f25d3e46"
  },
  {
   "metadata": {
    "ExecuteTime": {
     "end_time": "2024-04-07T19:41:22.030452Z",
     "start_time": "2024-04-07T19:41:16.724253Z"
    }
   },
   "cell_type": "code",
   "source": "from sklearn.model_selection import train_test_split",
   "id": "ae8f1c9b5adb6861",
   "outputs": [],
   "execution_count": 9
  },
  {
   "metadata": {
    "ExecuteTime": {
     "end_time": "2024-04-07T19:41:22.040045Z",
     "start_time": "2024-04-07T19:41:22.032205Z"
    }
   },
   "cell_type": "code",
   "source": [
    "x = np.array(df[[\"Distance (km)\", \"State\", \"Delivery_Hour\"]])\n",
    "y = np.array(df[\"Delivery_Time (sec)\"])"
   ],
   "id": "b9823408cfea3260",
   "outputs": [],
   "execution_count": 10
  },
  {
   "metadata": {
    "ExecuteTime": {
     "end_time": "2024-04-07T19:41:22.101640Z",
     "start_time": "2024-04-07T19:41:22.041725Z"
    }
   },
   "cell_type": "code",
   "source": "X_train, X_test, y_train, y_test = train_test_split(x, y, test_size=0.2, random_state=42)",
   "id": "fe10ef32e642de74",
   "outputs": [],
   "execution_count": 11
  },
  {
   "metadata": {},
   "cell_type": "markdown",
   "source": "# Now, we are going to train the model. For that purpose, we are going to use LSTM",
   "id": "6dd07504a5391c06"
  },
  {
   "metadata": {
    "ExecuteTime": {
     "end_time": "2024-04-07T19:41:58.838953Z",
     "start_time": "2024-04-07T19:41:22.102849Z"
    }
   },
   "cell_type": "code",
   "source": [
    "from keras.models import Sequential\n",
    "from keras.layers import Dense, LSTM"
   ],
   "id": "96368d0752400ee3",
   "outputs": [
    {
     "name": "stderr",
     "output_type": "stream",
     "text": [
      "2024-04-08 01:11:29.150965: I external/local_tsl/tsl/cuda/cudart_stub.cc:32] Could not find cuda drivers on your machine, GPU will not be used.\n",
      "2024-04-08 01:11:30.820604: I external/local_tsl/tsl/cuda/cudart_stub.cc:32] Could not find cuda drivers on your machine, GPU will not be used.\n",
      "2024-04-08 01:11:33.774606: I tensorflow/core/platform/cpu_feature_guard.cc:210] This TensorFlow binary is optimized to use available CPU instructions in performance-critical operations.\n",
      "To enable the following instructions: AVX2 FMA, in other operations, rebuild TensorFlow with the appropriate compiler flags.\n",
      "2024-04-08 01:11:45.275286: W tensorflow/compiler/tf2tensorrt/utils/py_utils.cc:38] TF-TRT Warning: Could not find TensorRT\n"
     ]
    }
   ],
   "execution_count": 12
  },
  {
   "metadata": {
    "ExecuteTime": {
     "end_time": "2024-04-07T19:42:02.552220Z",
     "start_time": "2024-04-07T19:41:58.880782Z"
    }
   },
   "cell_type": "code",
   "source": [
    "model = Sequential()\n",
    "model.add(LSTM(128, return_sequences=True, input_shape=(X_train.shape[1], 1)))\n",
    "model.add(LSTM(64, return_sequences=False))\n",
    "model.add(Dense(25))\n",
    "model.add(Dense(1))\n",
    "model.summary()"
   ],
   "id": "9b3c51523c124a87",
   "outputs": [
    {
     "name": "stderr",
     "output_type": "stream",
     "text": [
      "2024-04-08 01:12:00.801976: I external/local_xla/xla/stream_executor/cuda/cuda_executor.cc:998] successful NUMA node read from SysFS had negative value (-1), but there must be at least one NUMA node, so returning NUMA node zero. See more at https://github.com/torvalds/linux/blob/v6.0/Documentation/ABI/testing/sysfs-bus-pci#L344-L355\n",
      "2024-04-08 01:12:00.917688: W tensorflow/core/common_runtime/gpu/gpu_device.cc:2251] Cannot dlopen some GPU libraries. Please make sure the missing libraries mentioned above are installed properly if you would like to use GPU. Follow the guide at https://www.tensorflow.org/install/gpu for how to download and setup the required libraries for your platform.\n",
      "Skipping registering GPU devices...\n",
      "/home/soumya/PyCharmProjects/NewsBytes_Assignment/.venv/lib/python3.10/site-packages/keras/src/layers/rnn/rnn.py:204: UserWarning: Do not pass an `input_shape`/`input_dim` argument to a layer. When using Sequential models, prefer using an `Input(shape)` object as the first layer in the model instead.\n",
      "  super().__init__(**kwargs)\n"
     ]
    },
    {
     "data": {
      "text/plain": [
       "\u001B[1mModel: \"sequential\"\u001B[0m\n"
      ],
      "text/html": [
       "<pre style=\"white-space:pre;overflow-x:auto;line-height:normal;font-family:Menlo,'DejaVu Sans Mono',consolas,'Courier New',monospace\"><span style=\"font-weight: bold\">Model: \"sequential\"</span>\n",
       "</pre>\n"
      ]
     },
     "metadata": {},
     "output_type": "display_data"
    },
    {
     "data": {
      "text/plain": [
       "┏━━━━━━━━━━━━━━━━━━━━━━━━━━━━━━━━━┳━━━━━━━━━━━━━━━━━━━━━━━━┳━━━━━━━━━━━━━━━┓\n",
       "┃\u001B[1m \u001B[0m\u001B[1mLayer (type)                   \u001B[0m\u001B[1m \u001B[0m┃\u001B[1m \u001B[0m\u001B[1mOutput Shape          \u001B[0m\u001B[1m \u001B[0m┃\u001B[1m \u001B[0m\u001B[1m      Param #\u001B[0m\u001B[1m \u001B[0m┃\n",
       "┡━━━━━━━━━━━━━━━━━━━━━━━━━━━━━━━━━╇━━━━━━━━━━━━━━━━━━━━━━━━╇━━━━━━━━━━━━━━━┩\n",
       "│ lstm (\u001B[38;5;33mLSTM\u001B[0m)                     │ (\u001B[38;5;45mNone\u001B[0m, \u001B[38;5;34m3\u001B[0m, \u001B[38;5;34m128\u001B[0m)         │        \u001B[38;5;34m66,560\u001B[0m │\n",
       "├─────────────────────────────────┼────────────────────────┼───────────────┤\n",
       "│ lstm_1 (\u001B[38;5;33mLSTM\u001B[0m)                   │ (\u001B[38;5;45mNone\u001B[0m, \u001B[38;5;34m64\u001B[0m)             │        \u001B[38;5;34m49,408\u001B[0m │\n",
       "├─────────────────────────────────┼────────────────────────┼───────────────┤\n",
       "│ dense (\u001B[38;5;33mDense\u001B[0m)                   │ (\u001B[38;5;45mNone\u001B[0m, \u001B[38;5;34m25\u001B[0m)             │         \u001B[38;5;34m1,625\u001B[0m │\n",
       "├─────────────────────────────────┼────────────────────────┼───────────────┤\n",
       "│ dense_1 (\u001B[38;5;33mDense\u001B[0m)                 │ (\u001B[38;5;45mNone\u001B[0m, \u001B[38;5;34m1\u001B[0m)              │            \u001B[38;5;34m26\u001B[0m │\n",
       "└─────────────────────────────────┴────────────────────────┴───────────────┘\n"
      ],
      "text/html": [
       "<pre style=\"white-space:pre;overflow-x:auto;line-height:normal;font-family:Menlo,'DejaVu Sans Mono',consolas,'Courier New',monospace\">┏━━━━━━━━━━━━━━━━━━━━━━━━━━━━━━━━━┳━━━━━━━━━━━━━━━━━━━━━━━━┳━━━━━━━━━━━━━━━┓\n",
       "┃<span style=\"font-weight: bold\"> Layer (type)                    </span>┃<span style=\"font-weight: bold\"> Output Shape           </span>┃<span style=\"font-weight: bold\">       Param # </span>┃\n",
       "┡━━━━━━━━━━━━━━━━━━━━━━━━━━━━━━━━━╇━━━━━━━━━━━━━━━━━━━━━━━━╇━━━━━━━━━━━━━━━┩\n",
       "│ lstm (<span style=\"color: #0087ff; text-decoration-color: #0087ff\">LSTM</span>)                     │ (<span style=\"color: #00d7ff; text-decoration-color: #00d7ff\">None</span>, <span style=\"color: #00af00; text-decoration-color: #00af00\">3</span>, <span style=\"color: #00af00; text-decoration-color: #00af00\">128</span>)         │        <span style=\"color: #00af00; text-decoration-color: #00af00\">66,560</span> │\n",
       "├─────────────────────────────────┼────────────────────────┼───────────────┤\n",
       "│ lstm_1 (<span style=\"color: #0087ff; text-decoration-color: #0087ff\">LSTM</span>)                   │ (<span style=\"color: #00d7ff; text-decoration-color: #00d7ff\">None</span>, <span style=\"color: #00af00; text-decoration-color: #00af00\">64</span>)             │        <span style=\"color: #00af00; text-decoration-color: #00af00\">49,408</span> │\n",
       "├─────────────────────────────────┼────────────────────────┼───────────────┤\n",
       "│ dense (<span style=\"color: #0087ff; text-decoration-color: #0087ff\">Dense</span>)                   │ (<span style=\"color: #00d7ff; text-decoration-color: #00d7ff\">None</span>, <span style=\"color: #00af00; text-decoration-color: #00af00\">25</span>)             │         <span style=\"color: #00af00; text-decoration-color: #00af00\">1,625</span> │\n",
       "├─────────────────────────────────┼────────────────────────┼───────────────┤\n",
       "│ dense_1 (<span style=\"color: #0087ff; text-decoration-color: #0087ff\">Dense</span>)                 │ (<span style=\"color: #00d7ff; text-decoration-color: #00d7ff\">None</span>, <span style=\"color: #00af00; text-decoration-color: #00af00\">1</span>)              │            <span style=\"color: #00af00; text-decoration-color: #00af00\">26</span> │\n",
       "└─────────────────────────────────┴────────────────────────┴───────────────┘\n",
       "</pre>\n"
      ]
     },
     "metadata": {},
     "output_type": "display_data"
    },
    {
     "data": {
      "text/plain": [
       "\u001B[1m Total params: \u001B[0m\u001B[38;5;34m117,619\u001B[0m (459.45 KB)\n"
      ],
      "text/html": [
       "<pre style=\"white-space:pre;overflow-x:auto;line-height:normal;font-family:Menlo,'DejaVu Sans Mono',consolas,'Courier New',monospace\"><span style=\"font-weight: bold\"> Total params: </span><span style=\"color: #00af00; text-decoration-color: #00af00\">117,619</span> (459.45 KB)\n",
       "</pre>\n"
      ]
     },
     "metadata": {},
     "output_type": "display_data"
    },
    {
     "data": {
      "text/plain": [
       "\u001B[1m Trainable params: \u001B[0m\u001B[38;5;34m117,619\u001B[0m (459.45 KB)\n"
      ],
      "text/html": [
       "<pre style=\"white-space:pre;overflow-x:auto;line-height:normal;font-family:Menlo,'DejaVu Sans Mono',consolas,'Courier New',monospace\"><span style=\"font-weight: bold\"> Trainable params: </span><span style=\"color: #00af00; text-decoration-color: #00af00\">117,619</span> (459.45 KB)\n",
       "</pre>\n"
      ]
     },
     "metadata": {},
     "output_type": "display_data"
    },
    {
     "data": {
      "text/plain": [
       "\u001B[1m Non-trainable params: \u001B[0m\u001B[38;5;34m0\u001B[0m (0.00 B)\n"
      ],
      "text/html": [
       "<pre style=\"white-space:pre;overflow-x:auto;line-height:normal;font-family:Menlo,'DejaVu Sans Mono',consolas,'Courier New',monospace\"><span style=\"font-weight: bold\"> Non-trainable params: </span><span style=\"color: #00af00; text-decoration-color: #00af00\">0</span> (0.00 B)\n",
       "</pre>\n"
      ]
     },
     "metadata": {},
     "output_type": "display_data"
    }
   ],
   "execution_count": 13
  },
  {
   "metadata": {
    "ExecuteTime": {
     "end_time": "2024-04-07T19:44:58.565999Z",
     "start_time": "2024-04-07T19:42:02.584926Z"
    }
   },
   "cell_type": "code",
   "source": [
    "model.compile(optimizer='adam', loss='mean_squared_error')\n",
    "model.fit(X_train, y_train, epochs=50, batch_size=100)"
   ],
   "id": "215855852b976035",
   "outputs": [
    {
     "name": "stdout",
     "output_type": "stream",
     "text": [
      "Epoch 1/50\n",
      "\u001B[1m400/400\u001B[0m \u001B[32m━━━━━━━━━━━━━━━━━━━━\u001B[0m\u001B[37m\u001B[0m \u001B[1m9s\u001B[0m 9ms/step - loss: 3609313.5000\n",
      "Epoch 2/50\n",
      "\u001B[1m400/400\u001B[0m \u001B[32m━━━━━━━━━━━━━━━━━━━━\u001B[0m\u001B[37m\u001B[0m \u001B[1m3s\u001B[0m 8ms/step - loss: 1887278.8750\n",
      "Epoch 3/50\n",
      "\u001B[1m400/400\u001B[0m \u001B[32m━━━━━━━━━━━━━━━━━━━━\u001B[0m\u001B[37m\u001B[0m \u001B[1m3s\u001B[0m 8ms/step - loss: 4164879.2500\n",
      "Epoch 4/50\n",
      "\u001B[1m400/400\u001B[0m \u001B[32m━━━━━━━━━━━━━━━━━━━━\u001B[0m\u001B[37m\u001B[0m \u001B[1m4s\u001B[0m 9ms/step - loss: 2281678.5000\n",
      "Epoch 5/50\n",
      "\u001B[1m400/400\u001B[0m \u001B[32m━━━━━━━━━━━━━━━━━━━━\u001B[0m\u001B[37m\u001B[0m \u001B[1m3s\u001B[0m 8ms/step - loss: 2476567.7500\n",
      "Epoch 6/50\n",
      "\u001B[1m400/400\u001B[0m \u001B[32m━━━━━━━━━━━━━━━━━━━━\u001B[0m\u001B[37m\u001B[0m \u001B[1m3s\u001B[0m 8ms/step - loss: 2615886.2500\n",
      "Epoch 7/50\n",
      "\u001B[1m400/400\u001B[0m \u001B[32m━━━━━━━━━━━━━━━━━━━━\u001B[0m\u001B[37m\u001B[0m \u001B[1m3s\u001B[0m 8ms/step - loss: 2123247.2500\n",
      "Epoch 8/50\n",
      "\u001B[1m400/400\u001B[0m \u001B[32m━━━━━━━━━━━━━━━━━━━━\u001B[0m\u001B[37m\u001B[0m \u001B[1m4s\u001B[0m 9ms/step - loss: 2155443.0000\n",
      "Epoch 9/50\n",
      "\u001B[1m400/400\u001B[0m \u001B[32m━━━━━━━━━━━━━━━━━━━━\u001B[0m\u001B[37m\u001B[0m \u001B[1m4s\u001B[0m 10ms/step - loss: 2463482.0000\n",
      "Epoch 10/50\n",
      "\u001B[1m400/400\u001B[0m \u001B[32m━━━━━━━━━━━━━━━━━━━━\u001B[0m\u001B[37m\u001B[0m \u001B[1m4s\u001B[0m 10ms/step - loss: 10463833.0000\n",
      "Epoch 11/50\n",
      "\u001B[1m400/400\u001B[0m \u001B[32m━━━━━━━━━━━━━━━━━━━━\u001B[0m\u001B[37m\u001B[0m \u001B[1m4s\u001B[0m 10ms/step - loss: 2770540.0000\n",
      "Epoch 12/50\n",
      "\u001B[1m400/400\u001B[0m \u001B[32m━━━━━━━━━━━━━━━━━━━━\u001B[0m\u001B[37m\u001B[0m \u001B[1m4s\u001B[0m 9ms/step - loss: 4503028.5000\n",
      "Epoch 13/50\n",
      "\u001B[1m400/400\u001B[0m \u001B[32m━━━━━━━━━━━━━━━━━━━━\u001B[0m\u001B[37m\u001B[0m \u001B[1m4s\u001B[0m 9ms/step - loss: 2734600.7500\n",
      "Epoch 14/50\n",
      "\u001B[1m400/400\u001B[0m \u001B[32m━━━━━━━━━━━━━━━━━━━━\u001B[0m\u001B[37m\u001B[0m \u001B[1m4s\u001B[0m 10ms/step - loss: 1993619.0000\n",
      "Epoch 15/50\n",
      "\u001B[1m400/400\u001B[0m \u001B[32m━━━━━━━━━━━━━━━━━━━━\u001B[0m\u001B[37m\u001B[0m \u001B[1m4s\u001B[0m 10ms/step - loss: 2433928.2500\n",
      "Epoch 16/50\n",
      "\u001B[1m400/400\u001B[0m \u001B[32m━━━━━━━━━━━━━━━━━━━━\u001B[0m\u001B[37m\u001B[0m \u001B[1m4s\u001B[0m 9ms/step - loss: 4171927.2500\n",
      "Epoch 17/50\n",
      "\u001B[1m400/400\u001B[0m \u001B[32m━━━━━━━━━━━━━━━━━━━━\u001B[0m\u001B[37m\u001B[0m \u001B[1m4s\u001B[0m 10ms/step - loss: 2724476.2500\n",
      "Epoch 18/50\n",
      "\u001B[1m400/400\u001B[0m \u001B[32m━━━━━━━━━━━━━━━━━━━━\u001B[0m\u001B[37m\u001B[0m \u001B[1m4s\u001B[0m 9ms/step - loss: 2441100.0000\n",
      "Epoch 19/50\n",
      "\u001B[1m400/400\u001B[0m \u001B[32m━━━━━━━━━━━━━━━━━━━━\u001B[0m\u001B[37m\u001B[0m \u001B[1m4s\u001B[0m 9ms/step - loss: 1240621.0000\n",
      "Epoch 20/50\n",
      "\u001B[1m400/400\u001B[0m \u001B[32m━━━━━━━━━━━━━━━━━━━━\u001B[0m\u001B[37m\u001B[0m \u001B[1m3s\u001B[0m 8ms/step - loss: 2688033.0000\n",
      "Epoch 21/50\n",
      "\u001B[1m400/400\u001B[0m \u001B[32m━━━━━━━━━━━━━━━━━━━━\u001B[0m\u001B[37m\u001B[0m \u001B[1m3s\u001B[0m 8ms/step - loss: 5825267.5000\n",
      "Epoch 22/50\n",
      "\u001B[1m400/400\u001B[0m \u001B[32m━━━━━━━━━━━━━━━━━━━━\u001B[0m\u001B[37m\u001B[0m \u001B[1m3s\u001B[0m 8ms/step - loss: 3630808.2500\n",
      "Epoch 23/50\n",
      "\u001B[1m400/400\u001B[0m \u001B[32m━━━━━━━━━━━━━━━━━━━━\u001B[0m\u001B[37m\u001B[0m \u001B[1m3s\u001B[0m 8ms/step - loss: 8421703.0000\n",
      "Epoch 24/50\n",
      "\u001B[1m400/400\u001B[0m \u001B[32m━━━━━━━━━━━━━━━━━━━━\u001B[0m\u001B[37m\u001B[0m \u001B[1m3s\u001B[0m 7ms/step - loss: 4063485.2500\n",
      "Epoch 25/50\n",
      "\u001B[1m400/400\u001B[0m \u001B[32m━━━━━━━━━━━━━━━━━━━━\u001B[0m\u001B[37m\u001B[0m \u001B[1m3s\u001B[0m 7ms/step - loss: 3747924.2500\n",
      "Epoch 26/50\n",
      "\u001B[1m400/400\u001B[0m \u001B[32m━━━━━━━━━━━━━━━━━━━━\u001B[0m\u001B[37m\u001B[0m \u001B[1m3s\u001B[0m 8ms/step - loss: 4996064.0000\n",
      "Epoch 27/50\n",
      "\u001B[1m400/400\u001B[0m \u001B[32m━━━━━━━━━━━━━━━━━━━━\u001B[0m\u001B[37m\u001B[0m \u001B[1m3s\u001B[0m 8ms/step - loss: 9002674.0000\n",
      "Epoch 28/50\n",
      "\u001B[1m400/400\u001B[0m \u001B[32m━━━━━━━━━━━━━━━━━━━━\u001B[0m\u001B[37m\u001B[0m \u001B[1m3s\u001B[0m 8ms/step - loss: 3058698.5000\n",
      "Epoch 29/50\n",
      "\u001B[1m400/400\u001B[0m \u001B[32m━━━━━━━━━━━━━━━━━━━━\u001B[0m\u001B[37m\u001B[0m \u001B[1m3s\u001B[0m 8ms/step - loss: 3302628.7500\n",
      "Epoch 30/50\n",
      "\u001B[1m400/400\u001B[0m \u001B[32m━━━━━━━━━━━━━━━━━━━━\u001B[0m\u001B[37m\u001B[0m \u001B[1m4s\u001B[0m 9ms/step - loss: 4766519.5000\n",
      "Epoch 31/50\n",
      "\u001B[1m400/400\u001B[0m \u001B[32m━━━━━━━━━━━━━━━━━━━━\u001B[0m\u001B[37m\u001B[0m \u001B[1m3s\u001B[0m 8ms/step - loss: 2148677.2500\n",
      "Epoch 32/50\n",
      "\u001B[1m400/400\u001B[0m \u001B[32m━━━━━━━━━━━━━━━━━━━━\u001B[0m\u001B[37m\u001B[0m \u001B[1m3s\u001B[0m 8ms/step - loss: 4739401.5000\n",
      "Epoch 33/50\n",
      "\u001B[1m400/400\u001B[0m \u001B[32m━━━━━━━━━━━━━━━━━━━━\u001B[0m\u001B[37m\u001B[0m \u001B[1m3s\u001B[0m 8ms/step - loss: 3539933.7500\n",
      "Epoch 34/50\n",
      "\u001B[1m400/400\u001B[0m \u001B[32m━━━━━━━━━━━━━━━━━━━━\u001B[0m\u001B[37m\u001B[0m \u001B[1m3s\u001B[0m 8ms/step - loss: 3872706.0000\n",
      "Epoch 35/50\n",
      "\u001B[1m400/400\u001B[0m \u001B[32m━━━━━━━━━━━━━━━━━━━━\u001B[0m\u001B[37m\u001B[0m \u001B[1m3s\u001B[0m 8ms/step - loss: 4359545.0000\n",
      "Epoch 36/50\n",
      "\u001B[1m400/400\u001B[0m \u001B[32m━━━━━━━━━━━━━━━━━━━━\u001B[0m\u001B[37m\u001B[0m \u001B[1m3s\u001B[0m 8ms/step - loss: 3090929.7500\n",
      "Epoch 37/50\n",
      "\u001B[1m400/400\u001B[0m \u001B[32m━━━━━━━━━━━━━━━━━━━━\u001B[0m\u001B[37m\u001B[0m \u001B[1m3s\u001B[0m 8ms/step - loss: 7565516.5000\n",
      "Epoch 38/50\n",
      "\u001B[1m400/400\u001B[0m \u001B[32m━━━━━━━━━━━━━━━━━━━━\u001B[0m\u001B[37m\u001B[0m \u001B[1m3s\u001B[0m 8ms/step - loss: 2072438.1250\n",
      "Epoch 39/50\n",
      "\u001B[1m400/400\u001B[0m \u001B[32m━━━━━━━━━━━━━━━━━━━━\u001B[0m\u001B[37m\u001B[0m \u001B[1m3s\u001B[0m 8ms/step - loss: 3310733.2500\n",
      "Epoch 40/50\n",
      "\u001B[1m400/400\u001B[0m \u001B[32m━━━━━━━━━━━━━━━━━━━━\u001B[0m\u001B[37m\u001B[0m \u001B[1m3s\u001B[0m 8ms/step - loss: 5249882.0000\n",
      "Epoch 41/50\n",
      "\u001B[1m400/400\u001B[0m \u001B[32m━━━━━━━━━━━━━━━━━━━━\u001B[0m\u001B[37m\u001B[0m \u001B[1m3s\u001B[0m 8ms/step - loss: 3304421.5000\n",
      "Epoch 42/50\n",
      "\u001B[1m400/400\u001B[0m \u001B[32m━━━━━━━━━━━━━━━━━━━━\u001B[0m\u001B[37m\u001B[0m \u001B[1m3s\u001B[0m 8ms/step - loss: 2936866.7500\n",
      "Epoch 43/50\n",
      "\u001B[1m400/400\u001B[0m \u001B[32m━━━━━━━━━━━━━━━━━━━━\u001B[0m\u001B[37m\u001B[0m \u001B[1m4s\u001B[0m 9ms/step - loss: 2072643.7500\n",
      "Epoch 44/50\n",
      "\u001B[1m400/400\u001B[0m \u001B[32m━━━━━━━━━━━━━━━━━━━━\u001B[0m\u001B[37m\u001B[0m \u001B[1m3s\u001B[0m 8ms/step - loss: 2055169.5000\n",
      "Epoch 45/50\n",
      "\u001B[1m400/400\u001B[0m \u001B[32m━━━━━━━━━━━━━━━━━━━━\u001B[0m\u001B[37m\u001B[0m \u001B[1m3s\u001B[0m 8ms/step - loss: 3041717.5000\n",
      "Epoch 46/50\n",
      "\u001B[1m400/400\u001B[0m \u001B[32m━━━━━━━━━━━━━━━━━━━━\u001B[0m\u001B[37m\u001B[0m \u001B[1m3s\u001B[0m 8ms/step - loss: 4589220.5000\n",
      "Epoch 47/50\n",
      "\u001B[1m400/400\u001B[0m \u001B[32m━━━━━━━━━━━━━━━━━━━━\u001B[0m\u001B[37m\u001B[0m \u001B[1m3s\u001B[0m 8ms/step - loss: 1930858.7500\n",
      "Epoch 48/50\n",
      "\u001B[1m400/400\u001B[0m \u001B[32m━━━━━━━━━━━━━━━━━━━━\u001B[0m\u001B[37m\u001B[0m \u001B[1m3s\u001B[0m 8ms/step - loss: 2484543.5000\n",
      "Epoch 49/50\n",
      "\u001B[1m400/400\u001B[0m \u001B[32m━━━━━━━━━━━━━━━━━━━━\u001B[0m\u001B[37m\u001B[0m \u001B[1m3s\u001B[0m 8ms/step - loss: 3400654.7500\n",
      "Epoch 50/50\n",
      "\u001B[1m400/400\u001B[0m \u001B[32m━━━━━━━━━━━━━━━━━━━━\u001B[0m\u001B[37m\u001B[0m \u001B[1m3s\u001B[0m 8ms/step - loss: 2370470.5000\n"
     ]
    },
    {
     "data": {
      "text/plain": [
       "<keras.src.callbacks.history.History at 0x7941f87d5540>"
      ]
     },
     "execution_count": 14,
     "metadata": {},
     "output_type": "execute_result"
    }
   ],
   "execution_count": 14
  },
  {
   "metadata": {
    "ExecuteTime": {
     "end_time": "2024-04-07T19:45:03.591238Z",
     "start_time": "2024-04-07T19:44:58.625951Z"
    }
   },
   "cell_type": "code",
   "source": "model.predict(np.array([[2.242045, 1, 9]]))",
   "id": "89aa08b2e84d5ab4",
   "outputs": [
    {
     "name": "stdout",
     "output_type": "stream",
     "text": [
      "\u001B[1m1/1\u001B[0m \u001B[32m━━━━━━━━━━━━━━━━━━━━\u001B[0m\u001B[37m\u001B[0m \u001B[1m2s\u001B[0m 2s/step\n"
     ]
    },
    {
     "data": {
      "text/plain": [
       "array([[1173.4058]], dtype=float32)"
      ]
     },
     "execution_count": 15,
     "metadata": {},
     "output_type": "execute_result"
    }
   ],
   "execution_count": 15
  }
 ],
 "metadata": {
  "kernelspec": {
   "display_name": "Python 3",
   "language": "python",
   "name": "python3"
  },
  "language_info": {
   "codemirror_mode": {
    "name": "ipython",
    "version": 2
   },
   "file_extension": ".py",
   "mimetype": "text/x-python",
   "name": "python",
   "nbconvert_exporter": "python",
   "pygments_lexer": "ipython2",
   "version": "2.7.6"
  }
 },
 "nbformat": 4,
 "nbformat_minor": 5
}
