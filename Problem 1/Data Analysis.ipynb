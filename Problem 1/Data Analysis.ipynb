{
 "cells": [
  {
   "metadata": {
    "ExecuteTime": {
     "end_time": "2024-04-10T03:59:52.340702Z",
     "start_time": "2024-04-10T03:59:49.355390Z"
    }
   },
   "cell_type": "code",
   "source": [
    "# Imports\n",
    "import pandas as pd\n",
    "\n",
    "import matplotlib.pyplot as plt"
   ],
   "id": "6bda06664bc289b6",
   "outputs": [],
   "execution_count": 1
  },
  {
   "metadata": {
    "ExecuteTime": {
     "end_time": "2024-04-10T03:59:53.453260Z",
     "start_time": "2024-04-10T03:59:52.343304Z"
    }
   },
   "cell_type": "code",
   "source": "df = pd.read_csv(\"data/Preprocessed_Data.csv\")",
   "id": "9a85694f3ffc4b82",
   "outputs": [],
   "execution_count": 2
  },
  {
   "metadata": {
    "ExecuteTime": {
     "end_time": "2024-04-10T03:59:53.541500Z",
     "start_time": "2024-04-10T03:59:53.455035Z"
    }
   },
   "cell_type": "code",
   "source": "df",
   "id": "8962de23f4d014bc",
   "outputs": [
    {
     "data": {
      "text/plain": [
       "               order_id      R_Lat      R_Lon      C_Lat      C_Lon  \\\n",
       "0       PRD_ZMT_2960011  28.468983  77.063728  28.449929  77.071230   \n",
       "1       PRD_ZMT_2964555  28.468983  77.063728  28.454522  77.066637   \n",
       "2       PRD_ZMT_2968945  28.468983  77.063728  28.461570  77.067590   \n",
       "3       PRD_ZMT_2976663  28.468983  77.063728  28.455738  77.058401   \n",
       "4       PRD_ZMT_2985948  28.468983  77.063728  28.440068  77.083967   \n",
       "...                 ...        ...        ...        ...        ...   \n",
       "237368  PRD_ZMT_8457746  28.532886  77.207941  28.503037  77.201892   \n",
       "237369  PRD_ZMT_8458181  22.544237  88.352148  22.560074  88.369037   \n",
       "237370  PRD_ZMT_8458897  19.122455  72.916411  19.104956  72.918557   \n",
       "237371  PRD_ZMT_8458955  17.450286  78.379158  17.444102  78.391155   \n",
       "237372  PRD_ZMT_8460535  12.997905  80.267516  12.986091  80.259726   \n",
       "\n",
       "        order_pickedup_time order_delivered_time  Distance (km)  \\\n",
       "0       2016-04-23 09:30:20  2016-04-23 09:57:04       2.242045   \n",
       "1       2016-04-23 11:05:32  2016-04-23 11:27:10       1.632941   \n",
       "2       2016-04-23 14:49:07  2016-04-23 15:07:18       0.906626   \n",
       "3       2016-04-23 16:43:14  2016-04-23 17:16:12       1.562127   \n",
       "4       2016-04-24 07:54:14  2016-04-24 08:16:29       3.775236   \n",
       "...                     ...                  ...            ...   \n",
       "237368  2016-09-25 16:49:02  2016-09-25 17:18:55       3.371266   \n",
       "237369  2016-09-25 17:07:48  2016-09-25 17:22:04       2.471663   \n",
       "237370  2016-09-25 17:22:39  2016-09-25 17:43:55       1.958820   \n",
       "237371  2016-09-25 17:07:15  2016-09-25 17:26:16       1.446523   \n",
       "237372  2016-09-25 17:25:54  2016-09-25 17:49:23       1.561438   \n",
       "\n",
       "        Delivery_Hour        State  Delivery_Time (sec)  \n",
       "0                   9      Haryana               1604.0  \n",
       "1                  11      Haryana               1298.0  \n",
       "2                  14      Haryana               1091.0  \n",
       "3                  16      Haryana               1978.0  \n",
       "4                   7      Haryana               1335.0  \n",
       "...               ...          ...                  ...  \n",
       "237368             16        Delhi               1793.0  \n",
       "237369             17  West Bengal                856.0  \n",
       "237370             17  Maharashtra               1276.0  \n",
       "237371             17    Telangana               1141.0  \n",
       "237372             17   Tamil Nadu               1409.0  \n",
       "\n",
       "[237373 rows x 11 columns]"
      ],
      "text/html": [
       "<div>\n",
       "<style scoped>\n",
       "    .dataframe tbody tr th:only-of-type {\n",
       "        vertical-align: middle;\n",
       "    }\n",
       "\n",
       "    .dataframe tbody tr th {\n",
       "        vertical-align: top;\n",
       "    }\n",
       "\n",
       "    .dataframe thead th {\n",
       "        text-align: right;\n",
       "    }\n",
       "</style>\n",
       "<table border=\"1\" class=\"dataframe\">\n",
       "  <thead>\n",
       "    <tr style=\"text-align: right;\">\n",
       "      <th></th>\n",
       "      <th>order_id</th>\n",
       "      <th>R_Lat</th>\n",
       "      <th>R_Lon</th>\n",
       "      <th>C_Lat</th>\n",
       "      <th>C_Lon</th>\n",
       "      <th>order_pickedup_time</th>\n",
       "      <th>order_delivered_time</th>\n",
       "      <th>Distance (km)</th>\n",
       "      <th>Delivery_Hour</th>\n",
       "      <th>State</th>\n",
       "      <th>Delivery_Time (sec)</th>\n",
       "    </tr>\n",
       "  </thead>\n",
       "  <tbody>\n",
       "    <tr>\n",
       "      <th>0</th>\n",
       "      <td>PRD_ZMT_2960011</td>\n",
       "      <td>28.468983</td>\n",
       "      <td>77.063728</td>\n",
       "      <td>28.449929</td>\n",
       "      <td>77.071230</td>\n",
       "      <td>2016-04-23 09:30:20</td>\n",
       "      <td>2016-04-23 09:57:04</td>\n",
       "      <td>2.242045</td>\n",
       "      <td>9</td>\n",
       "      <td>Haryana</td>\n",
       "      <td>1604.0</td>\n",
       "    </tr>\n",
       "    <tr>\n",
       "      <th>1</th>\n",
       "      <td>PRD_ZMT_2964555</td>\n",
       "      <td>28.468983</td>\n",
       "      <td>77.063728</td>\n",
       "      <td>28.454522</td>\n",
       "      <td>77.066637</td>\n",
       "      <td>2016-04-23 11:05:32</td>\n",
       "      <td>2016-04-23 11:27:10</td>\n",
       "      <td>1.632941</td>\n",
       "      <td>11</td>\n",
       "      <td>Haryana</td>\n",
       "      <td>1298.0</td>\n",
       "    </tr>\n",
       "    <tr>\n",
       "      <th>2</th>\n",
       "      <td>PRD_ZMT_2968945</td>\n",
       "      <td>28.468983</td>\n",
       "      <td>77.063728</td>\n",
       "      <td>28.461570</td>\n",
       "      <td>77.067590</td>\n",
       "      <td>2016-04-23 14:49:07</td>\n",
       "      <td>2016-04-23 15:07:18</td>\n",
       "      <td>0.906626</td>\n",
       "      <td>14</td>\n",
       "      <td>Haryana</td>\n",
       "      <td>1091.0</td>\n",
       "    </tr>\n",
       "    <tr>\n",
       "      <th>3</th>\n",
       "      <td>PRD_ZMT_2976663</td>\n",
       "      <td>28.468983</td>\n",
       "      <td>77.063728</td>\n",
       "      <td>28.455738</td>\n",
       "      <td>77.058401</td>\n",
       "      <td>2016-04-23 16:43:14</td>\n",
       "      <td>2016-04-23 17:16:12</td>\n",
       "      <td>1.562127</td>\n",
       "      <td>16</td>\n",
       "      <td>Haryana</td>\n",
       "      <td>1978.0</td>\n",
       "    </tr>\n",
       "    <tr>\n",
       "      <th>4</th>\n",
       "      <td>PRD_ZMT_2985948</td>\n",
       "      <td>28.468983</td>\n",
       "      <td>77.063728</td>\n",
       "      <td>28.440068</td>\n",
       "      <td>77.083967</td>\n",
       "      <td>2016-04-24 07:54:14</td>\n",
       "      <td>2016-04-24 08:16:29</td>\n",
       "      <td>3.775236</td>\n",
       "      <td>7</td>\n",
       "      <td>Haryana</td>\n",
       "      <td>1335.0</td>\n",
       "    </tr>\n",
       "    <tr>\n",
       "      <th>...</th>\n",
       "      <td>...</td>\n",
       "      <td>...</td>\n",
       "      <td>...</td>\n",
       "      <td>...</td>\n",
       "      <td>...</td>\n",
       "      <td>...</td>\n",
       "      <td>...</td>\n",
       "      <td>...</td>\n",
       "      <td>...</td>\n",
       "      <td>...</td>\n",
       "      <td>...</td>\n",
       "    </tr>\n",
       "    <tr>\n",
       "      <th>237368</th>\n",
       "      <td>PRD_ZMT_8457746</td>\n",
       "      <td>28.532886</td>\n",
       "      <td>77.207941</td>\n",
       "      <td>28.503037</td>\n",
       "      <td>77.201892</td>\n",
       "      <td>2016-09-25 16:49:02</td>\n",
       "      <td>2016-09-25 17:18:55</td>\n",
       "      <td>3.371266</td>\n",
       "      <td>16</td>\n",
       "      <td>Delhi</td>\n",
       "      <td>1793.0</td>\n",
       "    </tr>\n",
       "    <tr>\n",
       "      <th>237369</th>\n",
       "      <td>PRD_ZMT_8458181</td>\n",
       "      <td>22.544237</td>\n",
       "      <td>88.352148</td>\n",
       "      <td>22.560074</td>\n",
       "      <td>88.369037</td>\n",
       "      <td>2016-09-25 17:07:48</td>\n",
       "      <td>2016-09-25 17:22:04</td>\n",
       "      <td>2.471663</td>\n",
       "      <td>17</td>\n",
       "      <td>West Bengal</td>\n",
       "      <td>856.0</td>\n",
       "    </tr>\n",
       "    <tr>\n",
       "      <th>237370</th>\n",
       "      <td>PRD_ZMT_8458897</td>\n",
       "      <td>19.122455</td>\n",
       "      <td>72.916411</td>\n",
       "      <td>19.104956</td>\n",
       "      <td>72.918557</td>\n",
       "      <td>2016-09-25 17:22:39</td>\n",
       "      <td>2016-09-25 17:43:55</td>\n",
       "      <td>1.958820</td>\n",
       "      <td>17</td>\n",
       "      <td>Maharashtra</td>\n",
       "      <td>1276.0</td>\n",
       "    </tr>\n",
       "    <tr>\n",
       "      <th>237371</th>\n",
       "      <td>PRD_ZMT_8458955</td>\n",
       "      <td>17.450286</td>\n",
       "      <td>78.379158</td>\n",
       "      <td>17.444102</td>\n",
       "      <td>78.391155</td>\n",
       "      <td>2016-09-25 17:07:15</td>\n",
       "      <td>2016-09-25 17:26:16</td>\n",
       "      <td>1.446523</td>\n",
       "      <td>17</td>\n",
       "      <td>Telangana</td>\n",
       "      <td>1141.0</td>\n",
       "    </tr>\n",
       "    <tr>\n",
       "      <th>237372</th>\n",
       "      <td>PRD_ZMT_8460535</td>\n",
       "      <td>12.997905</td>\n",
       "      <td>80.267516</td>\n",
       "      <td>12.986091</td>\n",
       "      <td>80.259726</td>\n",
       "      <td>2016-09-25 17:25:54</td>\n",
       "      <td>2016-09-25 17:49:23</td>\n",
       "      <td>1.561438</td>\n",
       "      <td>17</td>\n",
       "      <td>Tamil Nadu</td>\n",
       "      <td>1409.0</td>\n",
       "    </tr>\n",
       "  </tbody>\n",
       "</table>\n",
       "<p>237373 rows × 11 columns</p>\n",
       "</div>"
      ]
     },
     "execution_count": 3,
     "metadata": {},
     "output_type": "execute_result"
    }
   ],
   "execution_count": 3
  },
  {
   "metadata": {
    "ExecuteTime": {
     "end_time": "2024-04-10T03:59:53.639337Z",
     "start_time": "2024-04-10T03:59:53.543600Z"
    }
   },
   "cell_type": "code",
   "source": "df.info()",
   "id": "3f3b40b3ba44cd06",
   "outputs": [
    {
     "name": "stdout",
     "output_type": "stream",
     "text": [
      "<class 'pandas.core.frame.DataFrame'>\n",
      "RangeIndex: 237373 entries, 0 to 237372\n",
      "Data columns (total 11 columns):\n",
      " #   Column                Non-Null Count   Dtype  \n",
      "---  ------                --------------   -----  \n",
      " 0   order_id              237373 non-null  object \n",
      " 1   R_Lat                 237373 non-null  float64\n",
      " 2   R_Lon                 237373 non-null  float64\n",
      " 3   C_Lat                 237373 non-null  float64\n",
      " 4   C_Lon                 237373 non-null  float64\n",
      " 5   order_pickedup_time   237373 non-null  object \n",
      " 6   order_delivered_time  237373 non-null  object \n",
      " 7   Distance (km)         237373 non-null  float64\n",
      " 8   Delivery_Hour         237373 non-null  int64  \n",
      " 9   State                 237373 non-null  object \n",
      " 10  Delivery_Time (sec)   237373 non-null  float64\n",
      "dtypes: float64(6), int64(1), object(4)\n",
      "memory usage: 19.9+ MB\n"
     ]
    }
   ],
   "execution_count": 4
  },
  {
   "metadata": {
    "ExecuteTime": {
     "end_time": "2024-04-10T03:59:53.675567Z",
     "start_time": "2024-04-10T03:59:53.642303Z"
    }
   },
   "cell_type": "code",
   "source": [
    "# For incomplete data\n",
    "# df = df[:194000]\n",
    "# df"
   ],
   "id": "30d519e1309035b9",
   "outputs": [],
   "execution_count": 5
  },
  {
   "metadata": {
    "ExecuteTime": {
     "end_time": "2024-04-10T03:59:53.721634Z",
     "start_time": "2024-04-10T03:59:53.677414Z"
    }
   },
   "cell_type": "code",
   "source": "df[\"Delivery_Time (min)\"] = df[\"Delivery_Time (sec)\"] / 60",
   "id": "da07b5f3650b292a",
   "outputs": [],
   "execution_count": 6
  },
  {
   "metadata": {
    "ExecuteTime": {
     "end_time": "2024-04-10T03:59:53.903942Z",
     "start_time": "2024-04-10T03:59:53.723259Z"
    }
   },
   "cell_type": "code",
   "source": "df.drop(columns=\"Delivery_Time (sec)\", inplace=True)",
   "id": "cddf88706512b5d5",
   "outputs": [],
   "execution_count": 7
  },
  {
   "metadata": {},
   "cell_type": "markdown",
   "source": "# These many people have ordered and received in the restaurant itself. Probably, they entered the restaurant and checked online price & found it cheaper. They must be engineers 💯 😎",
   "id": "bbdafd5747f30b0b"
  },
  {
   "metadata": {
    "ExecuteTime": {
     "end_time": "2024-04-10T03:59:53.927844Z",
     "start_time": "2024-04-10T03:59:53.906780Z"
    }
   },
   "cell_type": "code",
   "source": [
    "eng = len(df[df[\"Distance (km)\"] == 0])\n",
    "print(f\"{eng} ({eng / len(df)}%) people have received the order in the restaurant itself!!\")"
   ],
   "id": "e871ba7305e839b1",
   "outputs": [
    {
     "name": "stdout",
     "output_type": "stream",
     "text": [
      "5357 (0.022567857338450455%) people have received the order in the restaurant itself!!\n"
     ]
    }
   ],
   "execution_count": 8
  },
  {
   "metadata": {},
   "cell_type": "markdown",
   "source": "# Let's analyze delivery speed",
   "id": "e36d576cff725a6d"
  },
  {
   "metadata": {
    "ExecuteTime": {
     "end_time": "2024-04-10T04:00:54.056882Z",
     "start_time": "2024-04-10T03:59:53.930032Z"
    }
   },
   "cell_type": "code",
   "source": [
    "df[\"Delivery_Speed (min/km)\"] = 1\n",
    "\n",
    "for i in range(len(df)):\n",
    "    if df.loc[i, \"Distance (km)\"] == 0:\n",
    "        df.loc[i, \"Delivery_Speed (min/km)\"] = df.loc[i, \"Delivery_Time (min)\"]\n",
    "    else:\n",
    "        df.loc[i, \"Delivery_Speed (min/km)\"] = df.loc[i, \"Delivery_Time (min)\"] / df.loc[i, \"Distance (km)\"]"
   ],
   "id": "8dbdc2c30bca4b78",
   "outputs": [
    {
     "name": "stderr",
     "output_type": "stream",
     "text": [
      "/tmp/ipykernel_28288/270017328.py:7: FutureWarning: Setting an item of incompatible dtype is deprecated and will raise an error in a future version of pandas. Value '11.923638034356124' has dtype incompatible with int64, please explicitly cast to a compatible dtype first.\n",
      "  df.loc[i, \"Delivery_Speed (min/km)\"] = df.loc[i, \"Delivery_Time (min)\"] / df.loc[i, \"Distance (km)\"]\n"
     ]
    }
   ],
   "execution_count": 9
  },
  {
   "metadata": {},
   "cell_type": "markdown",
   "source": "## State wise average delivery speed",
   "id": "e8c373b7cd2f1fbc"
  },
  {
   "metadata": {
    "ExecuteTime": {
     "end_time": "2024-04-10T04:00:54.264066Z",
     "start_time": "2024-04-10T04:00:54.058111Z"
    }
   },
   "cell_type": "code",
   "source": [
    "df.groupby(\"State\").mean(\"Delivery_Speed (min/km)\").drop(\n",
    "    columns=[\"R_Lat\", \"R_Lon\", \"C_Lat\", \"C_Lon\", \"Distance (km)\", \"Delivery_Hour\", \"Delivery_Time (min)\"]).rename(\n",
    "    columns={\"Delivery_Speed (min/km)\": \"Average Delivery_Speed (min/km)\"})"
   ],
   "id": "228eb1b30d11dd9a",
   "outputs": [
    {
     "data": {
      "text/plain": [
       "             Average Delivery_Speed (min/km)\n",
       "State                                       \n",
       "Borno                               0.000112\n",
       "Delhi                              90.749125\n",
       "Haryana                            85.915555\n",
       "Karnataka                         110.104418\n",
       "Maharashtra                        53.730673\n",
       "Tamil Nadu                         55.680021\n",
       "Telangana                          51.822499\n",
       "West Bengal                        40.061957"
      ],
      "text/html": [
       "<div>\n",
       "<style scoped>\n",
       "    .dataframe tbody tr th:only-of-type {\n",
       "        vertical-align: middle;\n",
       "    }\n",
       "\n",
       "    .dataframe tbody tr th {\n",
       "        vertical-align: top;\n",
       "    }\n",
       "\n",
       "    .dataframe thead th {\n",
       "        text-align: right;\n",
       "    }\n",
       "</style>\n",
       "<table border=\"1\" class=\"dataframe\">\n",
       "  <thead>\n",
       "    <tr style=\"text-align: right;\">\n",
       "      <th></th>\n",
       "      <th>Average Delivery_Speed (min/km)</th>\n",
       "    </tr>\n",
       "    <tr>\n",
       "      <th>State</th>\n",
       "      <th></th>\n",
       "    </tr>\n",
       "  </thead>\n",
       "  <tbody>\n",
       "    <tr>\n",
       "      <th>Borno</th>\n",
       "      <td>0.000112</td>\n",
       "    </tr>\n",
       "    <tr>\n",
       "      <th>Delhi</th>\n",
       "      <td>90.749125</td>\n",
       "    </tr>\n",
       "    <tr>\n",
       "      <th>Haryana</th>\n",
       "      <td>85.915555</td>\n",
       "    </tr>\n",
       "    <tr>\n",
       "      <th>Karnataka</th>\n",
       "      <td>110.104418</td>\n",
       "    </tr>\n",
       "    <tr>\n",
       "      <th>Maharashtra</th>\n",
       "      <td>53.730673</td>\n",
       "    </tr>\n",
       "    <tr>\n",
       "      <th>Tamil Nadu</th>\n",
       "      <td>55.680021</td>\n",
       "    </tr>\n",
       "    <tr>\n",
       "      <th>Telangana</th>\n",
       "      <td>51.822499</td>\n",
       "    </tr>\n",
       "    <tr>\n",
       "      <th>West Bengal</th>\n",
       "      <td>40.061957</td>\n",
       "    </tr>\n",
       "  </tbody>\n",
       "</table>\n",
       "</div>"
      ]
     },
     "execution_count": 10,
     "metadata": {},
     "output_type": "execute_result"
    }
   ],
   "execution_count": 10
  },
  {
   "metadata": {},
   "cell_type": "markdown",
   "source": "## Overall average delivery speed",
   "id": "59d983b5d6dd2c46"
  },
  {
   "metadata": {
    "ExecuteTime": {
     "end_time": "2024-04-10T04:00:54.284773Z",
     "start_time": "2024-04-10T04:00:54.266608Z"
    }
   },
   "cell_type": "code",
   "source": "df[\"Delivery_Speed (min/km)\"].mean()",
   "id": "f24c8cc438df225f",
   "outputs": [
    {
     "data": {
      "text/plain": [
       "69.96090777013244"
      ]
     },
     "execution_count": 11,
     "metadata": {},
     "output_type": "execute_result"
    }
   ],
   "execution_count": 11
  },
  {
   "metadata": {},
   "cell_type": "markdown",
   "source": "# Telengana is the foodiest state with the maximum no of orders 😋",
   "id": "9eddf223522bab48"
  },
  {
   "metadata": {
    "ExecuteTime": {
     "end_time": "2024-04-10T04:00:54.411287Z",
     "start_time": "2024-04-10T04:00:54.287608Z"
    }
   },
   "cell_type": "code",
   "source": "df.groupby(\"State\")[\"order_id\"].count().rename(\"No of orders\").sort_values(ascending=False)",
   "id": "cd13439d21ba2d59",
   "outputs": [
    {
     "data": {
      "text/plain": [
       "State\n",
       "Telangana      67348\n",
       "Delhi          48993\n",
       "Tamil Nadu     32505\n",
       "Haryana        30451\n",
       "Karnataka      25762\n",
       "West Bengal    24010\n",
       "Maharashtra     8303\n",
       "Borno              1\n",
       "Name: No of orders, dtype: int64"
      ]
     },
     "execution_count": 12,
     "metadata": {},
     "output_type": "execute_result"
    }
   ],
   "execution_count": 12
  },
  {
   "metadata": {},
   "cell_type": "markdown",
   "source": "# 3 PM - 4 PM is the peak hour 🕒",
   "id": "6a558fbaf860f5f8"
  },
  {
   "metadata": {
    "ExecuteTime": {
     "end_time": "2024-04-10T04:01:40.509668Z",
     "start_time": "2024-04-10T04:00:54.413668Z"
    }
   },
   "cell_type": "code",
   "source": [
    "for i in range(len(df)):\n",
    "    if df.loc[i, \"Delivery_Hour\"] > 12:\n",
    "        df.loc[i, \"Delivery_Hour\"] = str(df.loc[i, \"Delivery_Hour\"] - 12) + \"PM\"\n",
    "    else:\n",
    "        df.loc[i, \"Delivery_Hour\"] = str(df.loc[i, \"Delivery_Hour\"]) + \"AM\""
   ],
   "id": "a309f199db8aa1b5",
   "outputs": [
    {
     "name": "stderr",
     "output_type": "stream",
     "text": [
      "/tmp/ipykernel_28288/1744956393.py:5: FutureWarning: Setting an item of incompatible dtype is deprecated and will raise an error in a future version of pandas. Value '9AM' has dtype incompatible with int64, please explicitly cast to a compatible dtype first.\n",
      "  df.loc[i, \"Delivery_Hour\"] = str(df.loc[i, \"Delivery_Hour\"]) + \"AM\"\n"
     ]
    }
   ],
   "execution_count": 13
  },
  {
   "metadata": {
    "ExecuteTime": {
     "end_time": "2024-04-10T04:01:41.856508Z",
     "start_time": "2024-04-10T04:01:40.513160Z"
    }
   },
   "cell_type": "code",
   "source": "df[\"Delivery_Hour\"].hist(figsize=(10, 5))",
   "id": "68405ce12951eca7",
   "outputs": [
    {
     "data": {
      "text/plain": [
       "<Axes: >"
      ]
     },
     "execution_count": 14,
     "metadata": {},
     "output_type": "execute_result"
    },
    {
     "data": {
      "text/plain": [
       "<Figure size 1000x500 with 1 Axes>"
      ],
      "image/png": "[encoded data removed]"
     },
     "metadata": {},
     "output_type": "display_data"
    }
   ],
   "execution_count": 14
  },
  {
   "metadata": {},
   "cell_type": "markdown",
   "source": [
    "# Let's visualize locations of customers on the map\n",
    "## (I extremely condemn the distorted map presented here but, I could find only this API in this short time. I beg pardon for this misbehave.)"
   ],
   "id": "b28957b70a75bae"
  },
  {
   "metadata": {
    "ExecuteTime": {
     "end_time": "2024-04-10T04:01:57.266879Z",
     "start_time": "2024-04-10T04:01:41.858889Z"
    }
   },
   "cell_type": "code",
   "source": [
    "from shapely.geometry import Point\n",
    "import geopandas as gpd\n",
    "from geopandas import GeoDataFrame\n",
    "\n",
    "geometry = [Point(xy) for xy in zip(df['C_Lon'], df['C_Lat'])]\n",
    "gdf = GeoDataFrame(df, geometry=geometry)\n",
    "\n",
    "world = gpd.read_file(gpd.datasets.get_path('naturalearth_lowres'))\n",
    "india = world[world.name == 'India']\n",
    "ax = india.plot(figsize=(10, 6))\n",
    "\n",
    "ax.set_xlim(india.total_bounds[0], india.total_bounds[2])\n",
    "ax.set_ylim(india.total_bounds[1], india.total_bounds[3])\n",
    "\n",
    "gdf.plot(ax=ax, marker='o', color='red', markersize=15)\n",
    "plt.show()"
   ],
   "id": "df7930f61db2d0ae",
   "outputs": [
    {
     "name": "stderr",
     "output_type": "stream",
     "text": [
      "/tmp/ipykernel_28288/2304451477.py:8: FutureWarning: The geopandas.dataset module is deprecated and will be removed in GeoPandas 1.0. You can get the original 'naturalearth_lowres' data from https://www.naturalearthdata.com/downloads/110m-cultural-vectors/.\n",
      "  world = gpd.read_file(gpd.datasets.get_path('naturalearth_lowres'))\n"
     ]
    },
    {
     "data": {
      "text/plain": [
       "<Figure size 1000x600 with 1 Axes>"
      ],
      "image/png": "[encoded data removed]"
     },
     "metadata": {},
     "output_type": "display_data"
    }
   ],
   "execution_count": 15
  }
 ],
 "metadata": {
  "kernelspec": {
   "display_name": "Python 3",
   "language": "python",
   "name": "python3"
  },
  "language_info": {
   "codemirror_mode": {
    "name": "ipython",
    "version": 2
   },
   "file_extension": ".py",
   "mimetype": "text/x-python",
   "name": "python",
   "nbconvert_exporter": "python",
   "pygments_lexer": "ipython2",
   "version": "2.7.6"
  }
 },
 "nbformat": 4,
 "nbformat_minor": 5
}
