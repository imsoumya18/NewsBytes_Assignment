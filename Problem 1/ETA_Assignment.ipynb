{
 "cells": [
  {
   "cell_type": "code",
   "metadata": {
    "id": "5aGIXrbKFvmA"
   },
   "source": [
    "# Imports\n",
    "import pandas as pd\n",
    "import numpy as np\n",
    "\n",
    "from IPython.display import clear_output"
   ],
   "outputs": [],
   "execution_count": null
  },
  {
   "cell_type": "code",
   "metadata": {
    "id": "O-xEsWHvGvUq"
   },
   "source": [
    "# Read CSV\n",
    "df = pd.read_csv('0_data.csv')"
   ],
   "outputs": [],
   "execution_count": null
  },
  {
   "cell_type": "code",
   "source": [
    "# For testing purpose only\n",
    "df = df[:10000]"
   ],
   "metadata": {
    "id": "lOC8NkaOLvI_"
   },
   "outputs": [],
   "execution_count": null
  },
  {
   "cell_type": "code",
   "metadata": {
    "colab": {
     "base_uri": "https://localhost:8080/",
     "height": 424
    },
    "id": "6R8ffEXiG0zZ",
    "outputId": "21a50324-758c-4419-c1d6-6897283361a3"
   },
   "source": [
    "df"
   ],
   "outputs": [],
   "execution_count": null
  },
  {
   "cell_type": "code",
   "metadata": {
    "colab": {
     "base_uri": "https://localhost:8080/"
    },
    "id": "5bWfVsNZG3jA",
    "outputId": "d12c2339-23fc-4480-b701-b5f9cf1a7e54"
   },
   "source": [
    "df.info()"
   ],
   "outputs": [],
   "execution_count": null
  },
  {
   "cell_type": "code",
   "metadata": {
    "colab": {
     "base_uri": "https://localhost:8080/"
    },
    "id": "Dp4sR2JuG5z5",
    "outputId": "f33c2cfa-8d32-4cbb-c8b3-430e30fdf933"
   },
   "source": [
    "# Checking NULL values\n",
    "df.isnull().sum()"
   ],
   "outputs": [],
   "execution_count": null
  },
  {
   "cell_type": "code",
   "metadata": {
    "id": "UIT9Vl52G8nW"
   },
   "source": [
    "# Setting Radius of Earth\n",
    "radius_earth = 6371\n",
    "\n",
    "# Function to convert Degree to Radian\n",
    "def rad(degree):\n",
    "    return degree * np.pi / 180"
   ],
   "outputs": [],
   "execution_count": null
  },
  {
   "cell_type": "markdown",
   "source": [
    "# **Function to calculate distance using Haversine Formula**"
   ],
   "metadata": {
    "id": "wbL9I7Fwrfq6"
   }
  },
  {
   "cell_type": "code",
   "metadata": {
    "id": "WnEDEcZOHBrC"
   },
   "source": [
    "def dist(lat1, lon1, lat2, lon2):\n",
    "    d_lat = rad(lat2 - lat1)\n",
    "    d_lon = rad(lon2 - lon1)\n",
    "    a = np.sin(d_lat / 2) ** 2 + np.cos(rad(lat1)) * np.cos(rad(lat2)) * np.sin(d_lon / 2) ** 2\n",
    "    c = 2 * np.arctan2(np.sqrt(a), np.sqrt(1 - a))\n",
    "    return radius_earth * c"
   ],
   "outputs": [],
   "execution_count": null
  },
  {
   "cell_type": "markdown",
   "source": [
    "# **Adding a new column `Distance` between Restaurant & Customer**"
   ],
   "metadata": {
    "id": "Dp1NH3bQroDe"
   }
  },
  {
   "cell_type": "code",
   "source": [
    "# %%timeit\n",
    "df[\"Distance\"] = np.nan\n",
    "\n",
    "df[\"Distance\"] = dist(df[\"R_Lat\"], df[\"R_Lon\"], df[\"C_Lat\"], df[\"C_Lon\"])"
   ],
   "metadata": {
    "id": "Si6Ers4SW2pM"
   },
   "outputs": [],
   "execution_count": null
  },
  {
   "cell_type": "code",
   "metadata": {
    "id": "XNfwGycmHHrR",
    "colab": {
     "base_uri": "https://localhost:8080/",
     "height": 206
    },
    "outputId": "9858f728-8629-4d88-dd66-6700333cfbfd"
   },
   "source": [
    "df.head()"
   ],
   "outputs": [],
   "execution_count": null
  },
  {
   "cell_type": "code",
   "source": "df.to_csv('1_data_with_distance.csv', index=False)",
   "metadata": {
    "id": "GqqZ6slAMDJm"
   },
   "outputs": [],
   "execution_count": null
  },
  {
   "cell_type": "markdown",
   "source": [
    "# **Adding a new column `Time` i.e. delivery time**"
   ],
   "metadata": {
    "id": "r1JDpMzxrwOP"
   }
  },
  {
   "cell_type": "code",
   "source": "df = pd.read_csv('1_data_with_distance.csv')",
   "metadata": {
    "id": "ULZk66CaNlEd"
   },
   "outputs": [],
   "execution_count": null
  },
  {
   "cell_type": "code",
   "source": [
    "def get_time(t1, t2):\n",
    "    time = (pd.to_datetime(t2) - pd.to_datetime(t1)).dt.total_seconds()\n",
    "    return time"
   ],
   "metadata": {
    "id": "xe4_VlalYhYZ"
   },
   "outputs": [],
   "execution_count": null
  },
  {
   "cell_type": "code",
   "source": [
    "%%timeit\n",
    "df[\"Time\"] = np.nan\n",
    "\n",
    "df[\"Time\"] = get_time(df[\"order_pickedup_time\"], df[\"order_delivered_time\"])"
   ],
   "metadata": {
    "id": "FHJPuq66ZQBJ",
    "colab": {
     "base_uri": "https://localhost:8080/"
    },
    "outputId": "0ce06966-9922-465d-f7b0-8a7731980d35"
   },
   "outputs": [],
   "execution_count": null
  },
  {
   "cell_type": "code",
   "metadata": {
    "id": "ryqj0Z2PHfUa",
    "colab": {
     "base_uri": "https://localhost:8080/",
     "height": 206
    },
    "outputId": "48838aa5-7488-47fe-e6e9-400e0e08b414"
   },
   "source": [
    "df.head()"
   ],
   "outputs": [],
   "execution_count": null
  },
  {
   "cell_type": "code",
   "source": "df.to_csv('2_data_with_distance_time.csv', index=False)",
   "metadata": {
    "id": "sj2EiVpTNKoV"
   },
   "outputs": [],
   "execution_count": null
  },
  {
   "cell_type": "markdown",
   "source": [
    "# **Function to find `State` of the restaurant**"
   ],
   "metadata": {
    "id": "tXSu3nlMsD_D"
   }
  },
  {
   "cell_type": "code",
   "source": "df = pd.read_csv('2_data_with_distance_time.csv')",
   "metadata": {
    "id": "YvoKd4TENrWm"
   },
   "outputs": [],
   "execution_count": null
  },
  {
   "cell_type": "code",
   "source": [
    "from geopy.geocoders import Nominatim\n",
    "\n",
    "# initialize Nominatim API\n",
    "geolocator = Nominatim(user_agent=\"GetLoc\")"
   ],
   "metadata": {
    "id": "N1HXq848-KdJ"
   },
   "outputs": [],
   "execution_count": null
  },
  {
   "cell_type": "code",
   "source": [
    "def get_state(latitude, longitude):\n",
    "    latitudes_str = str(latitude)\n",
    "    longitudes_str = str(longitude)\n",
    "\n",
    "    location = latitudes_str + \", \" + longitudes_str\n",
    "\n",
    "    address = geolocator.reverse(location)\n",
    "\n",
    "    states = address.raw['address'].get('state', '')\n",
    "\n",
    "    return states"
   ],
   "metadata": {
    "id": "c2rgbB1--V7r"
   },
   "outputs": [],
   "execution_count": null
  },
  {
   "cell_type": "markdown",
   "source": [
    "# **Adding a new column `State` i.e. state of the restaurant**"
   ],
   "metadata": {
    "id": "8PoU2HOisL1A"
   }
  },
  {
   "cell_type": "code",
   "source": [
    "df[\"State\"] = np.nan\n",
    "\n",
    "saved = 0\n",
    "\n",
    "for i in range(len(df)):\n",
    "    try:\n",
    "        if pd.isna(df.loc[i][\"State\"]):\n",
    "            df.loc[i, \"State\"] = get_state(df.loc[i, 'R_Lat'], df.loc[i, 'R_Lon'])\n",
    "\n",
    "    except:\n",
    "        # Due to some issues replacing failed rows with previous state\n",
    "        df.loc[i, \"State\"] = df.loc[i-1, \"State\"]\n",
    "\n",
    "    # Saving after a while to prevent data loss\n",
    "    if i % 100 == 0:\n",
    "        df.to_csv('3_data_with_distance_time_state.csv', index=False)\n",
    "        saved = i\n",
    "\n",
    "    clear_output(wait = True)\n",
    "    print(f\"Saved at {saved}\")\n",
    "    print(i)"
   ],
   "metadata": {
    "colab": {
     "base_uri": "https://localhost:8080/"
    },
    "id": "9w2HgH_Q9gYR",
    "outputId": "46e051ad-604e-4b48-dfd3-49614bab6357"
   },
   "outputs": [],
   "execution_count": null
  },
  {
   "cell_type": "code",
   "source": [
    "df"
   ],
   "metadata": {
    "id": "X45uoVxZeIor"
   },
   "outputs": [],
   "execution_count": null
  },
  {
   "cell_type": "code",
   "source": "df.to_csv('3_data_with_distance_time_state.csv', index=False)",
   "metadata": {
    "id": "KJo1N32XNT12"
   },
   "outputs": [],
   "execution_count": null
  },
  {
   "cell_type": "markdown",
   "source": [
    "# **Label Encoding of `State` column**"
   ],
   "metadata": {
    "id": "XaNdPEULpBFz"
   }
  },
  {
   "cell_type": "code",
   "source": "df = pd.read_csv('3_data_with_distance_time_state.csv')",
   "metadata": {
    "id": "LgnuukEHNvh2"
   },
   "outputs": [],
   "execution_count": null
  },
  {
   "cell_type": "code",
   "source": [
    "df[\"State\"].unique()"
   ],
   "metadata": {
    "id": "YOi5bAe_e14-"
   },
   "outputs": [],
   "execution_count": null
  },
  {
   "cell_type": "code",
   "source": [
    "from sklearn import preprocessing"
   ],
   "metadata": {
    "id": "x2SOWU5te_Ye"
   },
   "outputs": [],
   "execution_count": null
  },
  {
   "cell_type": "code",
   "source": [
    "label_encoder = preprocessing.LabelEncoder()\n",
    "\n",
    "df['State']= label_encoder.fit_transform(df['State'])\n",
    "\n",
    "df['State'].unique()"
   ],
   "metadata": {
    "id": "DqMcScPZfFhu"
   },
   "outputs": [],
   "execution_count": null
  },
  {
   "cell_type": "code",
   "source": [
    "df"
   ],
   "metadata": {
    "id": "qhhXENZLfU0K"
   },
   "outputs": [],
   "execution_count": null
  },
  {
   "cell_type": "markdown",
   "source": [
    "# **Adding a new column `Hour` i.e. hour of order**"
   ],
   "metadata": {
    "id": "_adm5F7jsVXq"
   }
  },
  {
   "cell_type": "code",
   "source": [
    "%%timeit\n",
    "for i in range(len(df)):\n",
    "    hour = pd.Timestamp(df.loc[i, \"order_pickedup_time\"]).hour\n",
    "    df.loc[i, \"Hour\"] = hour"
   ],
   "metadata": {
    "id": "5yLkzl0TqR8t"
   },
   "outputs": [],
   "execution_count": null
  },
  {
   "cell_type": "code",
   "source": [
    "df"
   ],
   "metadata": {
    "id": "eOF6ntDJq1Nv"
   },
   "outputs": [],
   "execution_count": null
  },
  {
   "cell_type": "code",
   "source": "df.to_csv('4_data_with_distance_time_state_hour.csv', index=False)",
   "metadata": {
    "id": "CPrI4XwnNXGW"
   },
   "outputs": [],
   "execution_count": null
  },
  {
   "cell_type": "markdown",
   "source": [
    "# **Now, we have to split the dataset in Train & Test dataset**"
   ],
   "metadata": {
    "id": "8njB6Qxh4o-s"
   }
  },
  {
   "cell_type": "code",
   "source": [
    "df = pd.read_csv('/content/drive/MyDrive/data_science_problem/4_data_with_distance_time_state_hour.csv')"
   ],
   "metadata": {
    "id": "1B4h48B6N44A"
   },
   "outputs": [],
   "execution_count": null
  },
  {
   "cell_type": "code",
   "metadata": {
    "id": "-WNUS6mlID6K"
   },
   "source": [
    "from sklearn.model_selection import train_test_split"
   ],
   "outputs": [],
   "execution_count": null
  },
  {
   "cell_type": "code",
   "metadata": {
    "id": "AtQsi_hsIGCY"
   },
   "source": [
    "x = np.array(df[[\"Distance\", \"State\", \"Hour\"]])\n",
    "y = np.array(df[\"Time\"])"
   ],
   "outputs": [],
   "execution_count": null
  },
  {
   "cell_type": "code",
   "metadata": {
    "id": "9mhZiE9jIIYc"
   },
   "source": [
    "X_train, X_test, y_train, y_test = train_test_split(x, y, test_size=0.2, random_state=42)"
   ],
   "outputs": [],
   "execution_count": null
  },
  {
   "cell_type": "markdown",
   "source": [
    "# **Finally, we are going to train the model. For that purpose, we are going to use LSTM**"
   ],
   "metadata": {
    "id": "MMCQU2ip42v4"
   }
  },
  {
   "cell_type": "code",
   "metadata": {
    "id": "d4b7AuTgIK0l"
   },
   "source": [
    "from keras.models import Sequential\n",
    "from keras.layers import Dense, LSTM"
   ],
   "outputs": [],
   "execution_count": null
  },
  {
   "cell_type": "code",
   "metadata": {
    "id": "ziEMmKazIQB2"
   },
   "source": [
    "model = Sequential()\n",
    "model.add(LSTM(128, return_sequences=True, input_shape=(X_train.shape[1], 1)))\n",
    "model.add(LSTM(64, return_sequences=False))\n",
    "model.add(Dense(25))\n",
    "model.add(Dense(1))\n",
    "model.summary()"
   ],
   "outputs": [],
   "execution_count": null
  },
  {
   "cell_type": "code",
   "metadata": {
    "id": "JKoPAuDyISth"
   },
   "source": [
    "model.compile(optimizer='adam', loss='mean_squared_error')\n",
    "model.fit(X_train, y_train, epochs=50, batch_size=100)"
   ],
   "outputs": [],
   "execution_count": null
  },
  {
   "cell_type": "markdown",
   "source": [
    "# **Let's take sample distance (in km), State, Hour and predict the time required**"
   ],
   "metadata": {
    "id": "yddAlt475FIM"
   }
  },
  {
   "cell_type": "code",
   "metadata": {
    "id": "QO-n7-x_IXcR"
   },
   "source": [
    "model.predict(np.array([[2.242045, 1, 9]]))"
   ],
   "outputs": [],
   "execution_count": null
  }
 ],
 "metadata": {
  "colab": {
   "provenance": []
  },
  "kernelspec": {
   "display_name": "Python 3",
   "name": "python3"
  },
  "language_info": {
   "name": "python"
  }
 },
 "nbformat": 4,
 "nbformat_minor": 0
}
