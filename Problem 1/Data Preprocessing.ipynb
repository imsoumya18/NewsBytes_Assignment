{
 "cells": [
  {
   "cell_type": "code",
   "metadata": {
    "id": "5aGIXrbKFvmA",
    "ExecuteTime": {
     "end_time": "2024-04-07T19:15:34.884937Z",
     "start_time": "2024-04-07T19:15:34.536643Z"
    }
   },
   "source": [
    "# Imports\n",
    "import pandas as pd\n",
    "import numpy as np\n",
    "\n",
    "from IPython.display import clear_output"
   ],
   "outputs": [],
   "execution_count": 1
  },
  {
   "cell_type": "code",
   "metadata": {
    "id": "O-xEsWHvGvUq"
   },
   "source": [
    "# Read CSV\n",
    "df = pd.read_csv('data/0_data.csv')"
   ],
   "outputs": [],
   "execution_count": null
  },
  {
   "cell_type": "code",
   "source": [
    "# For testing purpose only\n",
    "# df = df[:100]"
   ],
   "metadata": {
    "id": "lOC8NkaOLvI_"
   },
   "outputs": [],
   "execution_count": null
  },
  {
   "cell_type": "code",
   "metadata": {
    "colab": {
     "base_uri": "https://localhost:8080/",
     "height": 424
    },
    "id": "6R8ffEXiG0zZ",
    "outputId": "21a50324-758c-4419-c1d6-6897283361a3"
   },
   "source": [
    "df"
   ],
   "outputs": [],
   "execution_count": null
  },
  {
   "cell_type": "code",
   "metadata": {
    "colab": {
     "base_uri": "https://localhost:8080/"
    },
    "id": "5bWfVsNZG3jA",
    "outputId": "d12c2339-23fc-4480-b701-b5f9cf1a7e54"
   },
   "source": [
    "df.info()"
   ],
   "outputs": [],
   "execution_count": null
  },
  {
   "cell_type": "code",
   "metadata": {
    "colab": {
     "base_uri": "https://localhost:8080/"
    },
    "id": "Dp4sR2JuG5z5",
    "outputId": "f33c2cfa-8d32-4cbb-c8b3-430e30fdf933"
   },
   "source": [
    "# Checking NULL values\n",
    "df.isnull().sum()"
   ],
   "outputs": [],
   "execution_count": null
  },
  {
   "metadata": {},
   "cell_type": "markdown",
   "source": "# **Calculating `Distance`**"
  },
  {
   "cell_type": "code",
   "metadata": {
    "id": "UIT9Vl52G8nW"
   },
   "source": [
    "# Setting Radius of Earth\n",
    "radius_earth = 6371\n",
    "\n",
    "\n",
    "# Function to convert Degree to Radian\n",
    "def rad(degree):\n",
    "    return degree * np.pi / 180"
   ],
   "outputs": [],
   "execution_count": null
  },
  {
   "cell_type": "code",
   "metadata": {
    "id": "WnEDEcZOHBrC"
   },
   "source": [
    "# Function to calculate distance using Haversine Formula\n",
    "def dist(lat1, lon1, lat2, lon2):\n",
    "    d_lat = rad(lat2 - lat1)\n",
    "    d_lon = rad(lon2 - lon1)\n",
    "    a = np.sin(d_lat / 2) ** 2 + np.cos(rad(lat1)) * np.cos(rad(lat2)) * np.sin(d_lon / 2) ** 2\n",
    "    c = 2 * np.arctan2(np.sqrt(a), np.sqrt(1 - a))\n",
    "    return radius_earth * c"
   ],
   "outputs": [],
   "execution_count": null
  },
  {
   "cell_type": "code",
   "source": "df[\"Distance (km)\"] = dist(df[\"R_Lat\"], df[\"R_Lon\"], df[\"C_Lat\"], df[\"C_Lon\"])",
   "metadata": {
    "id": "Si6Ers4SW2pM"
   },
   "outputs": [],
   "execution_count": null
  },
  {
   "cell_type": "code",
   "metadata": {
    "id": "XNfwGycmHHrR",
    "colab": {
     "base_uri": "https://localhost:8080/",
     "height": 206
    },
    "outputId": "9858f728-8629-4d88-dd66-6700333cfbfd"
   },
   "source": [
    "df.head()"
   ],
   "outputs": [],
   "execution_count": null
  },
  {
   "cell_type": "code",
   "source": "df.to_csv('data/1_data_with_distance.csv', index=False)",
   "metadata": {
    "id": "GqqZ6slAMDJm"
   },
   "outputs": [],
   "execution_count": null
  },
  {
   "cell_type": "markdown",
   "source": "# **Calculating `Delivery_Time`**",
   "metadata": {
    "id": "r1JDpMzxrwOP"
   }
  },
  {
   "cell_type": "code",
   "source": "df = pd.read_csv('data/1_data_with_distance.csv')",
   "metadata": {
    "id": "ULZk66CaNlEd"
   },
   "outputs": [],
   "execution_count": null
  },
  {
   "cell_type": "code",
   "source": [
    "# Function to calculate delivery time\n",
    "def get_time(t1, t2):\n",
    "    time = (pd.to_datetime(t2) - pd.to_datetime(t1)).dt.total_seconds()\n",
    "    return time"
   ],
   "metadata": {
    "id": "xe4_VlalYhYZ"
   },
   "outputs": [],
   "execution_count": null
  },
  {
   "cell_type": "code",
   "source": "df[\"Delivery_Time (sec)\"] = get_time(df[\"order_pickedup_time\"], df[\"order_delivered_time\"])",
   "metadata": {
    "id": "FHJPuq66ZQBJ",
    "colab": {
     "base_uri": "https://localhost:8080/"
    },
    "outputId": "0ce06966-9922-465d-f7b0-8a7731980d35"
   },
   "outputs": [],
   "execution_count": null
  },
  {
   "cell_type": "code",
   "metadata": {
    "id": "ryqj0Z2PHfUa",
    "colab": {
     "base_uri": "https://localhost:8080/",
     "height": 206
    },
    "outputId": "48838aa5-7488-47fe-e6e9-400e0e08b414"
   },
   "source": [
    "df.head()"
   ],
   "outputs": [],
   "execution_count": null
  },
  {
   "cell_type": "code",
   "source": "df.to_csv('data/2_data_with_distance_time.csv', index=False)",
   "metadata": {
    "id": "sj2EiVpTNKoV"
   },
   "outputs": [],
   "execution_count": null
  },
  {
   "metadata": {},
   "cell_type": "markdown",
   "source": "# **Calculating `Delivery_Hour` e.g. Hour = 2 for all orders between 2:00 AM & 2:59 AM**"
  },
  {
   "metadata": {},
   "cell_type": "code",
   "source": "df = pd.read_csv('data/2_data_with_distance_time.csv')",
   "outputs": [],
   "execution_count": null
  },
  {
   "metadata": {},
   "cell_type": "code",
   "source": "df[\"Delivery_Hour\"] = pd.to_datetime(df[\"order_pickedup_time\"]).dt.hour",
   "outputs": [],
   "execution_count": null
  },
  {
   "metadata": {},
   "cell_type": "code",
   "source": "df",
   "outputs": [],
   "execution_count": null
  },
  {
   "metadata": {},
   "cell_type": "code",
   "source": "df.to_csv('data/3_data_with_distance_time_hour.csv', index=False)",
   "outputs": [],
   "execution_count": null
  },
  {
   "cell_type": "markdown",
   "source": "# **Finding `State` of the restaurant**",
   "metadata": {
    "id": "tXSu3nlMsD_D"
   }
  },
  {
   "cell_type": "code",
   "source": "df = pd.read_csv('data/3_data_with_distance_time_hour.csv')",
   "metadata": {
    "id": "YvoKd4TENrWm"
   },
   "outputs": [],
   "execution_count": null
  },
  {
   "metadata": {},
   "cell_type": "code",
   "source": [
    "try:\n",
    "    df = pd.read_csv('data/4_data_with_distance_time_hour_state.csv')\n",
    "    saved = len(df) - df[\"State\"].isnull().sum() - 1\n",
    "except:\n",
    "    df[\"State\"] = np.nan\n",
    "    saved = 0"
   ],
   "outputs": [],
   "execution_count": null
  },
  {
   "cell_type": "code",
   "source": [
    "from geopy.geocoders import Nominatim\n",
    "\n",
    "# initialize Nominatim API\n",
    "geolocator = Nominatim(user_agent=\"GetLoc\")"
   ],
   "metadata": {
    "id": "N1HXq848-KdJ"
   },
   "outputs": [],
   "execution_count": null
  },
  {
   "cell_type": "code",
   "source": [
    "# Function to fetch State of restaurant\n",
    "def get_state(latitude, longitude):\n",
    "    latitudes_str = str(latitude)\n",
    "    longitudes_str = str(longitude)\n",
    "\n",
    "    location = latitudes_str + \", \" + longitudes_str\n",
    "\n",
    "    address = geolocator.reverse(location)\n",
    "\n",
    "    states = address.raw['address'].get('state', '')\n",
    "\n",
    "    return states"
   ],
   "metadata": {
    "id": "c2rgbB1--V7r"
   },
   "outputs": [],
   "execution_count": null
  },
  {
   "cell_type": "code",
   "source": [
    "for i in range(saved, len(df)):\n",
    "    try:\n",
    "        if pd.isna(df.loc[i][\"State\"]):\n",
    "            df.loc[i, \"State\"] = get_state(df.loc[i, 'R_Lat'], df.loc[i, 'R_Lon'])\n",
    "    except:\n",
    "        # Due to some issues replacing failed rows with previous state\n",
    "        df.loc[i, \"State\"] = df.loc[i - 1, \"State\"]\n",
    "\n",
    "    # Saving after a while to prevent data loss\n",
    "    if i % 100 == 0:\n",
    "        df.to_csv('data/4_data_with_distance_time_hour_state.csv', index=False)\n",
    "        saved = i\n",
    "\n",
    "    clear_output()\n",
    "    print(f\"Saved till {saved}\")\n",
    "    print(f\"{i + 1}/{len(df)}\")"
   ],
   "metadata": {
    "colab": {
     "base_uri": "https://localhost:8080/"
    },
    "id": "9w2HgH_Q9gYR",
    "outputId": "46e051ad-604e-4b48-dfd3-49614bab6357"
   },
   "outputs": [],
   "execution_count": null
  },
  {
   "cell_type": "code",
   "source": [
    "df"
   ],
   "metadata": {
    "id": "X45uoVxZeIor"
   },
   "outputs": [],
   "execution_count": null
  },
  {
   "cell_type": "code",
   "source": "df.to_csv('data/4_data_with_distance_time_hour_state.csv', index=False)",
   "metadata": {
    "id": "KJo1N32XNT12"
   },
   "outputs": [],
   "execution_count": null
  },
  {
   "metadata": {},
   "cell_type": "markdown",
   "source": "# Rearranging the columns"
  },
  {
   "metadata": {
    "ExecuteTime": {
     "end_time": "2024-04-07T19:15:43.350596Z",
     "start_time": "2024-04-07T19:15:41.969713Z"
    }
   },
   "cell_type": "code",
   "source": "df = pd.read_csv('data/4_data_with_distance_time_hour_state.csv')",
   "outputs": [
    {
     "name": "stderr",
     "output_type": "stream",
     "text": [
      "/tmp/ipykernel_9622/38395814.py:1: DtypeWarning: Columns (10) have mixed types. Specify dtype option on import or set low_memory=False.\n",
      "  df = pd.read_csv('data/4_data_with_distance_time_hour_state.csv')\n"
     ]
    }
   ],
   "execution_count": 2
  },
  {
   "metadata": {
    "ExecuteTime": {
     "end_time": "2024-04-07T19:15:44.765774Z",
     "start_time": "2024-04-07T19:15:44.754970Z"
    }
   },
   "cell_type": "code",
   "source": "df.columns",
   "outputs": [
    {
     "data": {
      "text/plain": [
       "Index(['order_id', 'R_Lon', 'R_Lat', 'C_Lon', 'C_Lat', 'order_pickedup_time',\n",
       "       'order_delivered_time', 'Distance (km)', 'Delivery_Time (sec)',\n",
       "       'Delivery_Hour', 'State'],\n",
       "      dtype='object')"
      ]
     },
     "execution_count": 3,
     "metadata": {},
     "output_type": "execute_result"
    }
   ],
   "execution_count": 3
  },
  {
   "metadata": {
    "ExecuteTime": {
     "end_time": "2024-04-07T19:15:46.859984Z",
     "start_time": "2024-04-07T19:15:46.779622Z"
    }
   },
   "cell_type": "code",
   "source": [
    "# Rearranging the columns\n",
    "df = df[[\"order_id\", \"R_Lat\", \"R_Lon\", \"C_Lat\", \"C_Lon\", \"order_pickedup_time\", \"order_delivered_time\", \"Distance (km)\",\n",
    "         \"Delivery_Hour\", \"State\", 'Delivery_Time (sec)']]"
   ],
   "outputs": [],
   "execution_count": 4
  },
  {
   "metadata": {
    "ExecuteTime": {
     "end_time": "2024-04-07T19:15:47.866905Z",
     "start_time": "2024-04-07T19:15:47.803578Z"
    }
   },
   "cell_type": "code",
   "source": "df",
   "outputs": [
    {
     "data": {
      "text/plain": [
       "               order_id      R_Lat      R_Lon      C_Lat      C_Lon  \\\n",
       "0       PRD_ZMT_2960011  28.468983  77.063728  28.449929  77.071230   \n",
       "1       PRD_ZMT_2964555  28.468983  77.063728  28.454522  77.066637   \n",
       "2       PRD_ZMT_2968945  28.468983  77.063728  28.461570  77.067590   \n",
       "3       PRD_ZMT_2976663  28.468983  77.063728  28.455738  77.058401   \n",
       "4       PRD_ZMT_2985948  28.468983  77.063728  28.440068  77.083967   \n",
       "...                 ...        ...        ...        ...        ...   \n",
       "237368  PRD_ZMT_8457746  28.532886  77.207941  28.503037  77.201892   \n",
       "237369  PRD_ZMT_8458181  22.544237  88.352148  22.560074  88.369037   \n",
       "237370  PRD_ZMT_8458897  19.122455  72.916411  19.104956  72.918557   \n",
       "237371  PRD_ZMT_8458955  17.450286  78.379158  17.444102  78.391155   \n",
       "237372  PRD_ZMT_8460535  12.997905  80.267516  12.986091  80.259726   \n",
       "\n",
       "        order_pickedup_time order_delivered_time  Distance (km)  \\\n",
       "0       2016-04-23 09:30:20  2016-04-23 09:57:04       2.242045   \n",
       "1       2016-04-23 11:05:32  2016-04-23 11:27:10       1.632941   \n",
       "2       2016-04-23 14:49:07  2016-04-23 15:07:18       0.906626   \n",
       "3       2016-04-23 16:43:14  2016-04-23 17:16:12       1.562127   \n",
       "4       2016-04-24 07:54:14  2016-04-24 08:16:29       3.775236   \n",
       "...                     ...                  ...            ...   \n",
       "237368  2016-09-25 16:49:02  2016-09-25 17:18:55       3.371266   \n",
       "237369  2016-09-25 17:07:48  2016-09-25 17:22:04       2.471663   \n",
       "237370  2016-09-25 17:22:39  2016-09-25 17:43:55       1.958820   \n",
       "237371  2016-09-25 17:07:15  2016-09-25 17:26:16       1.446523   \n",
       "237372  2016-09-25 17:25:54  2016-09-25 17:49:23       1.561438   \n",
       "\n",
       "        Delivery_Hour    State  Delivery_Time (sec)  \n",
       "0                   9  Haryana               1604.0  \n",
       "1                  11  Haryana               1298.0  \n",
       "2                  14  Haryana               1091.0  \n",
       "3                  16  Haryana               1978.0  \n",
       "4                   7  Haryana               1335.0  \n",
       "...               ...      ...                  ...  \n",
       "237368             16      NaN               1793.0  \n",
       "237369             17      NaN                856.0  \n",
       "237370             17      NaN               1276.0  \n",
       "237371             17      NaN               1141.0  \n",
       "237372             17      NaN               1409.0  \n",
       "\n",
       "[237373 rows x 11 columns]"
      ],
      "text/html": [
       "<div>\n",
       "<style scoped>\n",
       "    .dataframe tbody tr th:only-of-type {\n",
       "        vertical-align: middle;\n",
       "    }\n",
       "\n",
       "    .dataframe tbody tr th {\n",
       "        vertical-align: top;\n",
       "    }\n",
       "\n",
       "    .dataframe thead th {\n",
       "        text-align: right;\n",
       "    }\n",
       "</style>\n",
       "<table border=\"1\" class=\"dataframe\">\n",
       "  <thead>\n",
       "    <tr style=\"text-align: right;\">\n",
       "      <th></th>\n",
       "      <th>order_id</th>\n",
       "      <th>R_Lat</th>\n",
       "      <th>R_Lon</th>\n",
       "      <th>C_Lat</th>\n",
       "      <th>C_Lon</th>\n",
       "      <th>order_pickedup_time</th>\n",
       "      <th>order_delivered_time</th>\n",
       "      <th>Distance (km)</th>\n",
       "      <th>Delivery_Hour</th>\n",
       "      <th>State</th>\n",
       "      <th>Delivery_Time (sec)</th>\n",
       "    </tr>\n",
       "  </thead>\n",
       "  <tbody>\n",
       "    <tr>\n",
       "      <th>0</th>\n",
       "      <td>PRD_ZMT_2960011</td>\n",
       "      <td>28.468983</td>\n",
       "      <td>77.063728</td>\n",
       "      <td>28.449929</td>\n",
       "      <td>77.071230</td>\n",
       "      <td>2016-04-23 09:30:20</td>\n",
       "      <td>2016-04-23 09:57:04</td>\n",
       "      <td>2.242045</td>\n",
       "      <td>9</td>\n",
       "      <td>Haryana</td>\n",
       "      <td>1604.0</td>\n",
       "    </tr>\n",
       "    <tr>\n",
       "      <th>1</th>\n",
       "      <td>PRD_ZMT_2964555</td>\n",
       "      <td>28.468983</td>\n",
       "      <td>77.063728</td>\n",
       "      <td>28.454522</td>\n",
       "      <td>77.066637</td>\n",
       "      <td>2016-04-23 11:05:32</td>\n",
       "      <td>2016-04-23 11:27:10</td>\n",
       "      <td>1.632941</td>\n",
       "      <td>11</td>\n",
       "      <td>Haryana</td>\n",
       "      <td>1298.0</td>\n",
       "    </tr>\n",
       "    <tr>\n",
       "      <th>2</th>\n",
       "      <td>PRD_ZMT_2968945</td>\n",
       "      <td>28.468983</td>\n",
       "      <td>77.063728</td>\n",
       "      <td>28.461570</td>\n",
       "      <td>77.067590</td>\n",
       "      <td>2016-04-23 14:49:07</td>\n",
       "      <td>2016-04-23 15:07:18</td>\n",
       "      <td>0.906626</td>\n",
       "      <td>14</td>\n",
       "      <td>Haryana</td>\n",
       "      <td>1091.0</td>\n",
       "    </tr>\n",
       "    <tr>\n",
       "      <th>3</th>\n",
       "      <td>PRD_ZMT_2976663</td>\n",
       "      <td>28.468983</td>\n",
       "      <td>77.063728</td>\n",
       "      <td>28.455738</td>\n",
       "      <td>77.058401</td>\n",
       "      <td>2016-04-23 16:43:14</td>\n",
       "      <td>2016-04-23 17:16:12</td>\n",
       "      <td>1.562127</td>\n",
       "      <td>16</td>\n",
       "      <td>Haryana</td>\n",
       "      <td>1978.0</td>\n",
       "    </tr>\n",
       "    <tr>\n",
       "      <th>4</th>\n",
       "      <td>PRD_ZMT_2985948</td>\n",
       "      <td>28.468983</td>\n",
       "      <td>77.063728</td>\n",
       "      <td>28.440068</td>\n",
       "      <td>77.083967</td>\n",
       "      <td>2016-04-24 07:54:14</td>\n",
       "      <td>2016-04-24 08:16:29</td>\n",
       "      <td>3.775236</td>\n",
       "      <td>7</td>\n",
       "      <td>Haryana</td>\n",
       "      <td>1335.0</td>\n",
       "    </tr>\n",
       "    <tr>\n",
       "      <th>...</th>\n",
       "      <td>...</td>\n",
       "      <td>...</td>\n",
       "      <td>...</td>\n",
       "      <td>...</td>\n",
       "      <td>...</td>\n",
       "      <td>...</td>\n",
       "      <td>...</td>\n",
       "      <td>...</td>\n",
       "      <td>...</td>\n",
       "      <td>...</td>\n",
       "      <td>...</td>\n",
       "    </tr>\n",
       "    <tr>\n",
       "      <th>237368</th>\n",
       "      <td>PRD_ZMT_8457746</td>\n",
       "      <td>28.532886</td>\n",
       "      <td>77.207941</td>\n",
       "      <td>28.503037</td>\n",
       "      <td>77.201892</td>\n",
       "      <td>2016-09-25 16:49:02</td>\n",
       "      <td>2016-09-25 17:18:55</td>\n",
       "      <td>3.371266</td>\n",
       "      <td>16</td>\n",
       "      <td>NaN</td>\n",
       "      <td>1793.0</td>\n",
       "    </tr>\n",
       "    <tr>\n",
       "      <th>237369</th>\n",
       "      <td>PRD_ZMT_8458181</td>\n",
       "      <td>22.544237</td>\n",
       "      <td>88.352148</td>\n",
       "      <td>22.560074</td>\n",
       "      <td>88.369037</td>\n",
       "      <td>2016-09-25 17:07:48</td>\n",
       "      <td>2016-09-25 17:22:04</td>\n",
       "      <td>2.471663</td>\n",
       "      <td>17</td>\n",
       "      <td>NaN</td>\n",
       "      <td>856.0</td>\n",
       "    </tr>\n",
       "    <tr>\n",
       "      <th>237370</th>\n",
       "      <td>PRD_ZMT_8458897</td>\n",
       "      <td>19.122455</td>\n",
       "      <td>72.916411</td>\n",
       "      <td>19.104956</td>\n",
       "      <td>72.918557</td>\n",
       "      <td>2016-09-25 17:22:39</td>\n",
       "      <td>2016-09-25 17:43:55</td>\n",
       "      <td>1.958820</td>\n",
       "      <td>17</td>\n",
       "      <td>NaN</td>\n",
       "      <td>1276.0</td>\n",
       "    </tr>\n",
       "    <tr>\n",
       "      <th>237371</th>\n",
       "      <td>PRD_ZMT_8458955</td>\n",
       "      <td>17.450286</td>\n",
       "      <td>78.379158</td>\n",
       "      <td>17.444102</td>\n",
       "      <td>78.391155</td>\n",
       "      <td>2016-09-25 17:07:15</td>\n",
       "      <td>2016-09-25 17:26:16</td>\n",
       "      <td>1.446523</td>\n",
       "      <td>17</td>\n",
       "      <td>NaN</td>\n",
       "      <td>1141.0</td>\n",
       "    </tr>\n",
       "    <tr>\n",
       "      <th>237372</th>\n",
       "      <td>PRD_ZMT_8460535</td>\n",
       "      <td>12.997905</td>\n",
       "      <td>80.267516</td>\n",
       "      <td>12.986091</td>\n",
       "      <td>80.259726</td>\n",
       "      <td>2016-09-25 17:25:54</td>\n",
       "      <td>2016-09-25 17:49:23</td>\n",
       "      <td>1.561438</td>\n",
       "      <td>17</td>\n",
       "      <td>NaN</td>\n",
       "      <td>1409.0</td>\n",
       "    </tr>\n",
       "  </tbody>\n",
       "</table>\n",
       "<p>237373 rows × 11 columns</p>\n",
       "</div>"
      ]
     },
     "execution_count": 5,
     "metadata": {},
     "output_type": "execute_result"
    }
   ],
   "execution_count": 5
  },
  {
   "metadata": {
    "ExecuteTime": {
     "end_time": "2024-04-07T19:15:51.787539Z",
     "start_time": "2024-04-07T19:15:49.864434Z"
    }
   },
   "cell_type": "code",
   "source": "df.to_csv('data/Preprocessed_Data.csv', index=False)",
   "outputs": [],
   "execution_count": 6
  }
 ],
 "metadata": {
  "colab": {
   "provenance": []
  },
  "kernelspec": {
   "display_name": "Python 3 (ipykernel)",
   "name": "python3",
   "language": "python"
  },
  "language_info": {
   "name": "python"
  }
 },
 "nbformat": 4,
 "nbformat_minor": 0
}
